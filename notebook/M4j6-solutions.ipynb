{
 "cells": [
  {
   "cell_type": "markdown",
   "metadata": {},
   "source": [
    "# Introduction à Pandas : Manipulation et Analyse de Données\n",
    "\n",
    "Pandas est une bibliothèque Python essentielle pour l'analyse de données. Elle fournit des structures de données performantes et faciles à utiliser. Commençons par explorer sa structure de base : la Serie.\n",
    "\n",
    "## 1. Les Series dans Pandas\n",
    "\n",
    "Une Serie Pandas est comme une colonne de tableur \"intelligent\" : elle peut contenir des données (nombres, texte, dates...) et possède un index pour identifier chaque élément."
   ]
  },
  {
   "cell_type": "code",
   "execution_count": 1,
   "metadata": {},
   "outputs": [],
   "source": [
    "import pandas as pd  # Convention : on importe pandas sous l'alias pd\n",
    "import numpy as np  # Nécessaire pour np.nan\n"
   ]
  },
  {
   "cell_type": "markdown",
   "metadata": {},
   "source": [
    "### 1.1 Création d'une Serie simple\n",
    "Une Serie se crée facilement à partir d'une liste Python. Par défaut, les éléments sont indexés de 0 à n-1."
   ]
  },
  {
   "cell_type": "code",
   "execution_count": 2,
   "metadata": {},
   "outputs": [
    {
     "name": "stdout",
     "output_type": "stream",
     "text": [
      "Notre première Serie :\n",
      "0    15\n",
      "1    12\n",
      "2    18\n",
      "3    14\n",
      "dtype: int64\n",
      "\n",
      "Type de la structure : <class 'pandas.core.series.Series'>\n"
     ]
    }
   ],
   "source": [
    "# Création d'une Serie de nombres\n",
    "notes = pd.Series([15, 12, 18, 14])\n",
    "print(\"Notre première Serie :\")\n",
    "print(notes)\n",
    "print(\"\\nType de la structure :\", type(notes))"
   ]
  },
  {
   "cell_type": "markdown",
   "metadata": {},
   "source": [
    "### 1.2 Accès aux éléments\n",
    "Comme les listes Python, on peut accéder aux éléments par leur position (index numérique) :"
   ]
  },
  {
   "cell_type": "code",
   "execution_count": 10,
   "metadata": {},
   "outputs": [
    {
     "data": {
      "text/plain": [
       "15"
      ]
     },
     "execution_count": 10,
     "metadata": {},
     "output_type": "execute_result"
    }
   ],
   "source": [
    "notes[0]"
   ]
  },
  {
   "cell_type": "code",
   "execution_count": 13,
   "metadata": {},
   "outputs": [
    {
     "data": {
      "text/plain": [
       "18"
      ]
     },
     "execution_count": 13,
     "metadata": {},
     "output_type": "execute_result"
    }
   ],
   "source": [
    "notes[2]"
   ]
  },
  {
   "cell_type": "code",
   "execution_count": 18,
   "metadata": {},
   "outputs": [
    {
     "data": {
      "text/plain": [
       "14"
      ]
     },
     "execution_count": 18,
     "metadata": {},
     "output_type": "execute_result"
    }
   ],
   "source": [
    "notes.iloc[-1]"
   ]
  },
  {
   "cell_type": "code",
   "execution_count": 17,
   "metadata": {},
   "outputs": [
    {
     "name": "stdout",
     "output_type": "stream",
     "text": [
      "Dernier élément : 14\n"
     ]
    }
   ],
   "source": [
    "print(\"Dernier élément :\", notes.iloc[-1])  # Pour l'indexation négative, utiliser .iloc"
   ]
  },
  {
   "cell_type": "code",
   "execution_count": 6,
   "metadata": {},
   "outputs": [
    {
     "name": "stdout",
     "output_type": "stream",
     "text": [
      "Premier élément : 15\n",
      "\n",
      "Plusieurs éléments (slice) :\n",
      "1    12\n",
      "2    18\n",
      "dtype: int64\n"
     ]
    }
   ],
   "source": [
    "# Différentes façons d'accéder aux éléments\n",
    "print(\"Premier élément :\", notes[0])\n",
    "print(\"\\nPlusieurs éléments (slice) :\")\n",
    "print(notes[1:3])  # Du deuxième au troisième élément"
   ]
  },
  {
   "cell_type": "code",
   "execution_count": 7,
   "metadata": {},
   "outputs": [
    {
     "data": {
      "text/plain": [
       "4"
      ]
     },
     "execution_count": 7,
     "metadata": {},
     "output_type": "execute_result"
    }
   ],
   "source": [
    "notes.size"
   ]
  },
  {
   "cell_type": "code",
   "execution_count": 8,
   "metadata": {},
   "outputs": [
    {
     "data": {
      "text/plain": [
       "dtype('int64')"
      ]
     },
     "execution_count": 8,
     "metadata": {},
     "output_type": "execute_result"
    }
   ],
   "source": [
    "notes.dtype"
   ]
  },
  {
   "cell_type": "code",
   "execution_count": 9,
   "metadata": {},
   "outputs": [
    {
     "name": "stdout",
     "output_type": "stream",
     "text": [
      "Nombre d'éléments : 4\n",
      "Type des données : int64\n",
      "\n",
      "Statistiques descriptives :\n",
      "count     4.00\n",
      "mean     14.75\n",
      "std       2.50\n",
      "min      12.00\n",
      "25%      13.50\n",
      "50%      14.50\n",
      "75%      15.75\n",
      "max      18.00\n",
      "dtype: float64\n"
     ]
    }
   ],
   "source": [
    "# Exploration de la Serie\n",
    "print(\"Nombre d'éléments :\", notes.size)\n",
    "print(\"Type des données :\", notes.dtype)\n",
    "print(\"\\nStatistiques descriptives :\")\n",
    "print(notes.describe())"
   ]
  },
  {
   "cell_type": "markdown",
   "metadata": {},
   "source": [
    "### 1.4 Series avec index personnalisé\n",
    "L'un des avantages des Series est la possibilité de définir un index personnalisé, rendant les données plus lisibles et accessibles."
   ]
  },
  {
   "cell_type": "code",
   "execution_count": 15,
   "metadata": {},
   "outputs": [
    {
     "name": "stdout",
     "output_type": "stream",
     "text": [
      "Températures de la semaine :\n",
      "Lundi       25\n",
      "Mardi       24\n",
      "Mercredi    26\n",
      "Jeudi       23\n",
      "dtype: int64\n",
      "\n",
      "Température de mercredi : 26\n"
     ]
    }
   ],
   "source": [
    "# Création d'une Serie avec index personnalisé\n",
    "temperatures = pd.Series([25, 24, 26, 23], \n",
    "                        index=['Lundi', 'Mardi', 'Mercredi', 'Jeudi'])\n",
    "print(\"Températures de la semaine :\")\n",
    "print(temperatures)\n",
    "print(\"\\nTempérature de mercredi :\", temperatures['Mercredi'])"
   ]
  },
  {
   "cell_type": "markdown",
   "metadata": {},
   "source": [
    "### 1.5 Opérations et filtrage\n",
    "Les Series permettent des opérations vectorisées et du filtrage conditionnel :"
   ]
  },
  {
   "cell_type": "code",
   "execution_count": 16,
   "metadata": {},
   "outputs": [
    {
     "name": "stdout",
     "output_type": "stream",
     "text": [
      "Températures en Fahrenheit :\n",
      "Lundi       77.0\n",
      "Mardi       75.2\n",
      "Mercredi    78.8\n",
      "Jeudi       73.4\n",
      "dtype: float64\n",
      "\n",
      "Jours chauds (>24°C) :\n",
      "Lundi       25\n",
      "Mercredi    26\n",
      "dtype: int64\n"
     ]
    }
   ],
   "source": [
    "# Opérations sur la Serie\n",
    "print(\"Températures en Fahrenheit :\")\n",
    "print(temperatures * 9/5 + 32)\n",
    "\n",
    "print(\"\\nJours chauds (>24°C) :\")\n",
    "print(temperatures[temperatures > 24])"
   ]
  },
  {
   "cell_type": "markdown",
   "metadata": {},
   "source": [
    "### 1.6 Agrégations\n",
    "Les Series incluent de nombreuses méthodes d'agrégation utiles pour l'analyse :"
   ]
  },
  {
   "cell_type": "code",
   "execution_count": 19,
   "metadata": {},
   "outputs": [
    {
     "name": "stdout",
     "output_type": "stream",
     "text": [
      "Statistiques des températures :\n",
      "{'Moyenne': 24.5, 'Maximum': 26, 'Minimum': 23, 'Écart-type': 1.2909944487358056}\n",
      "\n",
      "Plusieurs agrégations d'un coup :\n",
      "mean    24.500000\n",
      "min     23.000000\n",
      "max     26.000000\n",
      "std      1.290994\n",
      "dtype: float64\n"
     ]
    }
   ],
   "source": [
    "# Exemple d'agrégations\n",
    "print(\"Statistiques des températures :\")\n",
    "print({\n",
    "    'Moyenne': temperatures.mean(),\n",
    "    'Maximum': temperatures.max(),\n",
    "    'Minimum': temperatures.min(),\n",
    "    'Écart-type': temperatures.std()\n",
    "})\n",
    "\n",
    "# Exemple avec .agg\n",
    "print(\"\\nPlusieurs agrégations d'un coup :\")\n",
    "print(temperatures.agg(['mean', 'min', 'max', 'std']))"
   ]
  },
  {
   "cell_type": "markdown",
   "metadata": {},
   "source": [
    "### 1.7 Types de données dans une Serie\n",
    "Une Serie peut contenir différents types de données, et Pandas adapte le type automatiquement :"
   ]
  },
  {
   "cell_type": "code",
   "execution_count": 21,
   "metadata": {},
   "outputs": [
    {
     "name": "stdout",
     "output_type": "stream",
     "text": [
      "Type des nombres : int64\n",
      "Type du texte : object\n",
      "Type mixte : object\n"
     ]
    }
   ],
   "source": [
    "# Démonstration des différents types de données\n",
    "nombres = pd.Series([1, 2, 3, 4])\n",
    "texte = pd.Series(['rouge', 'vert', 'bleu'])\n",
    "mixte = pd.Series([1, 'deux', 3.0, True])\n",
    "\n",
    "print(\"Type des nombres :\", nombres.dtype)\n",
    "print(\"Type du texte :\", texte.dtype)\n",
    "print(\"Type mixte :\", mixte.dtype)  # Devient 'object' car contient différents types"
   ]
  },
  {
   "cell_type": "markdown",
   "metadata": {},
   "source": [
    "### 1.8 Gestion des valeurs manquantes\n",
    "Dans le monde réel, les données sont souvent incomplètes. Pandas gère nativement les valeurs manquantes avec NaN (Not a Number)."
   ]
  },
  {
   "cell_type": "code",
   "execution_count": 24,
   "metadata": {},
   "outputs": [
    {
     "name": "stdout",
     "output_type": "stream",
     "text": [
      "Données avec valeurs manquantes :\n",
      "0    1.0\n",
      "1    NaN\n",
      "2    3.0\n",
      "3    NaN\n",
      "4    5.0\n",
      "dtype: float64\n",
      "\n",
      "Détection des valeurs manquantes :\n",
      "0    False\n",
      "1     True\n",
      "2    False\n",
      "3     True\n",
      "4    False\n",
      "dtype: bool\n",
      "\n",
      "Suppression des valeurs manquantes :\n",
      "0    1.0\n",
      "2    3.0\n",
      "4    5.0\n",
      "dtype: float64\n",
      "\n",
      "Remplacement des valeurs manquantes :\n",
      "0    1.0\n",
      "1    0.0\n",
      "2    3.0\n",
      "3    0.0\n",
      "4    5.0\n",
      "dtype: float64\n"
     ]
    }
   ],
   "source": [
    "\n",
    "# Création d'une Serie avec des valeurs manquantes\n",
    "donnees_incompletes = pd.Series([1, np.nan, 3, None, 5])\n",
    "print(\"Données avec valeurs manquantes :\")\n",
    "print(donnees_incompletes)\n",
    "\n",
    "print(\"\\nDétection des valeurs manquantes :\")\n",
    "print(donnees_incompletes.isna())\n",
    "\n",
    "print(\"\\nSuppression des valeurs manquantes :\")\n",
    "print(donnees_incompletes.dropna())\n",
    "\n",
    "print(\"\\nRemplacement des valeurs manquantes :\")\n",
    "print(donnees_incompletes.fillna(0))"
   ]
  },
  {
   "cell_type": "markdown",
   "metadata": {},
   "source": [
    "### 1.9 Opérations statistiques et méthodes d'agrégation avancées\n",
    "Les Series offrent de nombreuses possibilités pour l'analyse statistique :"
   ]
  },
  {
   "cell_type": "code",
   "execution_count": 25,
   "metadata": {},
   "outputs": [
    {
     "name": "stdout",
     "output_type": "stream",
     "text": [
      "Statistiques descriptives :\n",
      "count     6.000000\n",
      "mean     14.166667\n",
      "std       2.857738\n",
      "min      10.000000\n",
      "25%      12.500000\n",
      "50%      14.500000\n",
      "75%      15.750000\n",
      "max      18.000000\n",
      "dtype: float64\n",
      "\n",
      "Agrégations personnalisées :\n",
      "Moyenne               14.166667\n",
      "Médiane               14.500000\n",
      "Note max              18.000000\n",
      "Note min              10.000000\n",
      "Écart-type             2.857738\n",
      "Nombre élèves > 14     3.000000\n",
      "dtype: float64\n"
     ]
    }
   ],
   "source": [
    "# Création d'une Serie de notes\n",
    "notes = pd.Series([12, 15, 18, 10, 14, 16],\n",
    "                 index=['Alice', 'Bob', 'Charlie', 'David', 'Eve', 'Frank'])\n",
    "\n",
    "# Statistiques de base\n",
    "print(\"Statistiques descriptives :\")\n",
    "print(notes.describe())\n",
    "\n",
    "# Agrégations personnalisées avec .agg\n",
    "print(\"\\nAgrégations personnalisées :\")\n",
    "stats = notes.agg({\n",
    "    'Moyenne': 'mean',\n",
    "    'Médiane': 'median',\n",
    "    'Note max': 'max',\n",
    "    'Note min': 'min',\n",
    "    'Écart-type': 'std',\n",
    "    'Nombre élèves > 14': lambda x: sum(x > 14)\n",
    "})\n",
    "print(stats)"
   ]
  },
  {
   "cell_type": "markdown",
   "metadata": {},
   "source": [
    "### 1.10 Manipulation et filtrage avancés\n",
    "On peut combiner plusieurs conditions pour filtrer nos données :"
   ]
  },
  {
   "cell_type": "code",
   "execution_count": 26,
   "metadata": {},
   "outputs": [
    {
     "name": "stdout",
     "output_type": "stream",
     "text": [
      "Élèves avec notes entre 14 et 16 :\n",
      "Bob      15\n",
      "Eve      14\n",
      "Frank    16\n",
      "dtype: int64\n",
      "\n",
      "Notes triées par valeur :\n",
      "Charlie    18\n",
      "Frank      16\n",
      "Bob        15\n",
      "Eve        14\n",
      "Alice      12\n",
      "David      10\n",
      "dtype: int64\n",
      "\n",
      "Notes triées par nom d'élève :\n",
      "Alice      12\n",
      "Bob        15\n",
      "Charlie    18\n",
      "David      10\n",
      "Eve        14\n",
      "Frank      16\n",
      "dtype: int64\n"
     ]
    }
   ],
   "source": [
    "# Filtrage avec conditions multiples\n",
    "print(\"Élèves avec notes entre 14 et 16 :\")\n",
    "print(notes[(notes >= 14) & (notes <= 16)])\n",
    "\n",
    "# Tri des données\n",
    "print(\"\\nNotes triées par valeur :\")\n",
    "print(notes.sort_values(ascending=False))\n",
    "\n",
    "print(\"\\nNotes triées par nom d'élève :\")\n",
    "print(notes.sort_index())"
   ]
  },
  {
   "cell_type": "markdown",
   "metadata": {},
   "source": [
    "### 1.11 Exercices pratiques\n",
    "Pour consolider vos connaissances sur les Series Pandas, essayez ces exercices :\n",
    "\n",
    "1. Créez une Serie contenant les températures de la semaine (7 jours) avec des noms de jours comme index\n",
    "2. Calculez la température moyenne et l'écart-type\n",
    "3. Identifiez les jours où la température dépasse la moyenne\n",
    "4. Ajoutez 273.15 à toutes les températures pour les convertir en Kelvin\n",
    "5. Gérez quelques valeurs manquantes (NaN) dans les données"
   ]
  },
  {
   "cell_type": "code",
   "execution_count": 28,
   "metadata": {},
   "outputs": [
    {
     "name": "stdout",
     "output_type": "stream",
     "text": [
      "1. Températures de la semaine :\n",
      "Lundi       20.0\n",
      "Mardi       22.0\n",
      "Mercredi    21.0\n",
      "Jeudi        NaN\n",
      "Vendredi    23.0\n",
      "Samedi      19.0\n",
      "Dimanche    24.0\n",
      "dtype: float64\n",
      "\n",
      "2. Statistiques :\n",
      "Température moyenne : 21.5°C\n",
      "Écart-type : 1.9°C\n",
      "\n",
      "3. Jours au-dessus de la moyenne :\n",
      "Mardi       22.0\n",
      "Vendredi    23.0\n",
      "Dimanche    24.0\n",
      "dtype: float64\n",
      "\n",
      "4. Températures en Kelvin :\n",
      "Lundi       293.15\n",
      "Mardi       295.15\n",
      "Mercredi    294.15\n",
      "Jeudi          NaN\n",
      "Vendredi    296.15\n",
      "Samedi      292.15\n",
      "Dimanche    297.15\n",
      "dtype: float64\n",
      "\n",
      "5. Gestion des valeurs manquantes :\n",
      "Nombre de valeurs manquantes : 1\n",
      "\n",
      "Données sans valeurs manquantes :\n",
      "Lundi       20.0\n",
      "Mardi       22.0\n",
      "Mercredi    21.0\n",
      "Vendredi    23.0\n",
      "Samedi      19.0\n",
      "Dimanche    24.0\n",
      "dtype: float64\n",
      "\n",
      "Remplacement des NaN par la moyenne :\n",
      "Lundi       20.0\n",
      "Mardi       22.0\n",
      "Mercredi    21.0\n",
      "Jeudi       21.5\n",
      "Vendredi    23.0\n",
      "Samedi      19.0\n",
      "Dimanche    24.0\n",
      "dtype: float64\n"
     ]
    }
   ],
   "source": [
    "# 1. Créer une Serie avec les températures de la semaine\n",
    "temperatures_semaine = pd.Series(\n",
    "    [20, 22, 21, np.nan, 23, 19, 24],\n",
    "    index=['Lundi', 'Mardi', 'Mercredi', 'Jeudi', 'Vendredi', 'Samedi', 'Dimanche']\n",
    ")\n",
    "print(\"1. Températures de la semaine :\")\n",
    "print(temperatures_semaine)\n",
    "\n",
    "# 2. Calculer la température moyenne et l'écart-type\n",
    "moyenne = temperatures_semaine.mean()\n",
    "ecart_type = temperatures_semaine.std()\n",
    "print(\"\\n2. Statistiques :\")\n",
    "print(f\"Température moyenne : {moyenne:.1f}°C\")\n",
    "print(f\"Écart-type : {ecart_type:.1f}°C\")\n",
    "\n",
    "# 3. Identifier les jours où la température dépasse la moyenne\n",
    "jours_chauds = temperatures_semaine[temperatures_semaine > moyenne]\n",
    "print(\"\\n3. Jours au-dessus de la moyenne :\")\n",
    "print(jours_chauds)\n",
    "\n",
    "# 4. Convertir en Kelvin (ajouter 273.15)\n",
    "temperatures_kelvin = temperatures_semaine + 273.15\n",
    "print(\"\\n4. Températures en Kelvin :\")\n",
    "print(temperatures_kelvin)\n",
    "\n",
    "# 5. Gestion des valeurs manquantes\n",
    "print(\"\\n5. Gestion des valeurs manquantes :\")\n",
    "print(\"Nombre de valeurs manquantes :\", temperatures_semaine.isna().sum())\n",
    "print(\"\\nDonnées sans valeurs manquantes :\")\n",
    "print(temperatures_semaine.dropna())\n",
    "print(\"\\nRemplacement des NaN par la moyenne :\")\n",
    "print(temperatures_semaine.fillna(temperatures_semaine.mean()))"
   ]
  },
  {
   "cell_type": "markdown",
   "metadata": {},
   "source": [
    "## 2. Les DataFrames \n",
    "\n",
    "Un DataFrame est une structure de données 2D (comme un tableur Excel) composée de plusieurs Series. C'est la structure la plus utilisée dans Pandas pour manipuler des données tabulaires.\n",
    "\n",
    "### 2.1 Création d'un DataFrame\n",
    "Il existe plusieurs façons de créer un DataFrame :"
   ]
  },
  {
   "cell_type": "code",
   "execution_count": 29,
   "metadata": {},
   "outputs": [
    {
     "name": "stdout",
     "output_type": "stream",
     "text": [
      "DataFrame créé à partir d'un dictionnaire :\n",
      "       Nom  Age      Ville\n",
      "0    Alice   25      Paris\n",
      "1      Bob   30       Lyon\n",
      "2  Charlie   35  Marseille\n",
      "\n",
      "DataFrame créé à partir de listes :\n",
      "       Nom  Age      Ville\n",
      "0    Alice   25      Paris\n",
      "1      Bob   30       Lyon\n",
      "2  Charlie   35  Marseille\n"
     ]
    }
   ],
   "source": [
    "import pandas as pd\n",
    "import numpy as np\n",
    "\n",
    "# 1. À partir d'un dictionnaire\n",
    "df1 = pd.DataFrame({\n",
    "    'Nom': ['Alice', 'Bob', 'Charlie'],\n",
    "    'Age': [25, 30, 35],\n",
    "    'Ville': ['Paris', 'Lyon', 'Marseille']\n",
    "})\n",
    "print(\"DataFrame créé à partir d'un dictionnaire :\")\n",
    "print(df1)\n",
    "\n",
    "# 2. À partir de listes\n",
    "donnees = [\n",
    "    ['Alice', 25, 'Paris'],\n",
    "    ['Bob', 30, 'Lyon'],\n",
    "    ['Charlie', 35, 'Marseille']\n",
    "]\n",
    "df2 = pd.DataFrame(donnees, columns=['Nom', 'Age', 'Ville'])\n",
    "print(\"\\nDataFrame créé à partir de listes :\")\n",
    "print(df2)"
   ]
  },
  {
   "cell_type": "markdown",
   "metadata": {},
   "source": [
    "### 2.2 Exploration d'un DataFrame\n",
    "Pandas offre plusieurs méthodes utiles pour explorer rapidement nos données :"
   ]
  },
  {
   "cell_type": "code",
   "execution_count": 30,
   "metadata": {},
   "outputs": [
    {
     "name": "stdout",
     "output_type": "stream",
     "text": [
      "Les 2 premières lignes :\n",
      "     Nom  Age  Ville  Salaire Departement\n",
      "0  Alice   25  Paris    45000          IT\n",
      "1    Bob   30   Lyon    50000          HR\n",
      "\n",
      "Informations sur le DataFrame :\n",
      "<class 'pandas.core.frame.DataFrame'>\n",
      "RangeIndex: 5 entries, 0 to 4\n",
      "Data columns (total 5 columns):\n",
      " #   Column       Non-Null Count  Dtype \n",
      "---  ------       --------------  ----- \n",
      " 0   Nom          5 non-null      object\n",
      " 1   Age          5 non-null      int64 \n",
      " 2   Ville        5 non-null      object\n",
      " 3   Salaire      5 non-null      int64 \n",
      " 4   Departement  5 non-null      object\n",
      "dtypes: int64(2), object(3)\n",
      "memory usage: 328.0+ bytes\n",
      "None\n",
      "\n",
      "Statistiques descriptives :\n",
      "             Age       Salaire\n",
      "count   5.000000      5.000000\n",
      "mean   28.000000  48000.000000\n",
      "std     4.949747   4949.747468\n",
      "min    22.000000  42000.000000\n",
      "25%    25.000000  45000.000000\n",
      "50%    28.000000  48000.000000\n",
      "75%    30.000000  50000.000000\n",
      "max    35.000000  55000.000000\n",
      "\n",
      "Noms des colonnes :\n",
      "Index(['Nom', 'Age', 'Ville', 'Salaire', 'Departement'], dtype='object')\n",
      "\n",
      "Types des colonnes :\n",
      "Nom            object\n",
      "Age             int64\n",
      "Ville          object\n",
      "Salaire         int64\n",
      "Departement    object\n",
      "dtype: object\n"
     ]
    }
   ],
   "source": [
    "# Créons un DataFrame plus conséquent pour nos exemples\n",
    "df = pd.DataFrame({\n",
    "    'Nom': ['Alice', 'Bob', 'Charlie', 'David', 'Eve'],\n",
    "    'Age': [25, 30, 35, 28, 22],\n",
    "    'Ville': ['Paris', 'Lyon', 'Paris', 'Marseille', 'Lyon'],\n",
    "    'Salaire': [45000, 50000, 55000, 48000, 42000],\n",
    "    'Departement': ['IT', 'HR', 'IT', 'Finance', 'HR']\n",
    "})\n",
    "\n",
    "# Aperçu des données\n",
    "print(\"Les 2 premières lignes :\")\n",
    "print(df.head(2))\n",
    "\n",
    "print(\"\\nInformations sur le DataFrame :\")\n",
    "print(df.info())\n",
    "\n",
    "print(\"\\nStatistiques descriptives :\")\n",
    "print(df.describe())\n",
    "\n",
    "print(\"\\nNoms des colonnes :\")\n",
    "print(df.columns)\n",
    "\n",
    "print(\"\\nTypes des colonnes :\")\n",
    "print(df.dtypes)"
   ]
  },
  {
   "cell_type": "markdown",
   "metadata": {},
   "source": [
    "### 2.3 Accès aux données\n",
    "Un DataFrame permet différentes méthodes d'accès aux données :"
   ]
  },
  {
   "cell_type": "code",
   "execution_count": 31,
   "metadata": {},
   "outputs": [
    {
     "name": "stdout",
     "output_type": "stream",
     "text": [
      "Colonne Age :\n",
      "0    25\n",
      "1    30\n",
      "2    35\n",
      "3    28\n",
      "4    22\n",
      "Name: Age, dtype: int64\n",
      "\n",
      "Colonnes Nom et Age :\n",
      "       Nom  Age\n",
      "0    Alice   25\n",
      "1      Bob   30\n",
      "2  Charlie   35\n",
      "3    David   28\n",
      "4      Eve   22\n",
      "\n",
      "Première ligne, deuxième colonne :\n",
      "25\n",
      "\n",
      "Ligne avec index 2, colonne 'Nom' :\n",
      "Charlie\n"
     ]
    }
   ],
   "source": [
    "# Accès à une colonne (renvoie une Serie)\n",
    "print(\"Colonne Age :\")\n",
    "print(df['Age'])\n",
    "# ou print(df.Age)  # Uniquement si le nom de colonne est un identifiant valide\n",
    "\n",
    "# Accès à plusieurs colonnes\n",
    "print(\"\\nColonnes Nom et Age :\")\n",
    "print(df[['Nom', 'Age']])\n",
    "\n",
    "# Accès par position avec iloc\n",
    "print(\"\\nPremière ligne, deuxième colonne :\")\n",
    "print(df.iloc[0, 1])\n",
    "\n",
    "# Accès par label avec loc\n",
    "print(\"\\nLigne avec index 2, colonne 'Nom' :\")\n",
    "print(df.loc[2, 'Nom'])"
   ]
  },
  {
   "cell_type": "markdown",
   "metadata": {},
   "source": [
    "### 2.4 Filtrage et agrégation avancée\n",
    "Les DataFrames permettent des opérations complexes de filtrage et d'agrégation :"
   ]
  },
  {
   "cell_type": "code",
   "execution_count": 32,
   "metadata": {},
   "outputs": [
    {
     "name": "stdout",
     "output_type": "stream",
     "text": [
      "Employés de Paris :\n",
      "       Nom  Age  Ville  Salaire Departement\n",
      "0    Alice   25  Paris    45000          IT\n",
      "2  Charlie   35  Paris    55000          IT\n",
      "\n",
      "Employés IT de Paris :\n",
      "       Nom  Age  Ville  Salaire Departement\n",
      "0    Alice   25  Paris    45000          IT\n",
      "2  Charlie   35  Paris    55000          IT\n",
      "\n",
      "Statistiques par département :\n",
      "            Salaire                Age   Nom\n",
      "               mean    min    max mean count\n",
      "Departement                                 \n",
      "Finance       48000  48000  48000   28     1\n",
      "HR            46000  42000  50000   26     2\n",
      "IT            50000  45000  55000   30     2\n"
     ]
    }
   ],
   "source": [
    "# Filtrage avec conditions\n",
    "parisiens = df[df['Ville'] == 'Paris']\n",
    "print(\"Employés de Paris :\")\n",
    "print(parisiens)\n",
    "\n",
    "# Filtrage multi-conditions\n",
    "print(\"\\nEmployés IT de Paris :\")\n",
    "print(df[(df['Ville'] == 'Paris') & (df['Departement'] == 'IT')])\n",
    "\n",
    "# Agrégations par groupe avec agg\n",
    "resultats = df.groupby('Departement').agg({\n",
    "    'Salaire': ['mean', 'min', 'max'],\n",
    "    'Age': 'mean',\n",
    "    'Nom': 'count'\n",
    "}).round(2)\n",
    "\n",
    "print(\"\\nStatistiques par département :\")\n",
    "print(resultats)"
   ]
  },
  {
   "cell_type": "markdown",
   "metadata": {},
   "source": [
    "### 2.5 Modification du DataFrame\n",
    "On peut facilement modifier un DataFrame :"
   ]
  },
  {
   "cell_type": "code",
   "execution_count": 33,
   "metadata": {},
   "outputs": [
    {
     "name": "stdout",
     "output_type": "stream",
     "text": [
      "DataFrame mis à jour :\n",
      "       Nom  Age      Ville  Salaire Departement   Bonus\n",
      "0    Alice   25      Paris    45000          IT  6750.0\n",
      "1      Bob   30       Lyon    50000          HR  5000.0\n",
      "2  Charlie   35      Paris    55000          IT  8250.0\n",
      "3    David   28  Marseille    48000     Finance  4800.0\n",
      "4      Eve   22       Lyon    42000          HR  4200.0\n",
      "5    Frank   31       Lyon    49000     Finance  4900.0\n"
     ]
    }
   ],
   "source": [
    "# Ajout d'une nouvelle colonne\n",
    "df['Bonus'] = df['Salaire'] * 0.1\n",
    "\n",
    "# Modification basée sur condition\n",
    "df.loc[df['Departement'] == 'IT', 'Bonus'] *= 1.5\n",
    "\n",
    "# Ajout d'une ligne\n",
    "nouvelle_ligne = {\n",
    "    'Nom': 'Frank',\n",
    "    'Age': 31,\n",
    "    'Ville': 'Lyon',\n",
    "    'Salaire': 49000,\n",
    "    'Departement': 'Finance',\n",
    "    'Bonus': 4900\n",
    "}\n",
    "df = df.append(nouvelle_ligne, ignore_index=True)\n",
    "\n",
    "print(\"DataFrame mis à jour :\")\n",
    "print(df)"
   ]
  },
  {
   "cell_type": "markdown",
   "metadata": {},
   "source": [
    "### 2.6 Exercices pratiques sur les DataFrames\n",
    "\n",
    "1. Créez un DataFrame contenant des informations sur des produits (nom, prix, catégorie, stock)\n",
    "2. Calculez le prix moyen par catégorie\n",
    "3. Identifiez les produits dont le stock est inférieur à 10\n",
    "4. Ajoutez une colonne 'Valeur_Stock' qui calcule prix * stock\n",
    "5. Créez un résumé montrant pour chaque catégorie :\n",
    "   - Le nombre de produits\n",
    "   - La valeur totale du stock\n",
    "   - Le prix moyen\n",
    "   - Le stock minimum"
   ]
  },
  {
   "cell_type": "code",
   "execution_count": 35,
   "metadata": {},
   "outputs": [
    {
     "name": "stdout",
     "output_type": "stream",
     "text": [
      "1. DataFrame initial des produits :\n",
      "          Nom  Prix     Catégorie  Stock\n",
      "0  Ordinateur  1200  Informatique      5\n",
      "1      Souris    25   Accessoires     15\n",
      "2     Clavier    45   Accessoires      8\n",
      "3       Écran   300  Informatique     12\n",
      "4      Webcam    50   Accessoires     20\n",
      "5      Casque    80         Audio      6\n",
      "6  Imprimante   150  Informatique      4\n",
      "7    Tablette   400  Informatique     10\n",
      "\n",
      "2. Prix moyen par catégorie :\n",
      "Catégorie\n",
      "Accessoires      40.0\n",
      "Audio            80.0\n",
      "Informatique    512.5\n",
      "Name: Prix, dtype: float64\n",
      "\n",
      "3. Produits avec stock inférieur à 10 :\n",
      "          Nom  Prix     Catégorie  Stock\n",
      "0  Ordinateur  1200  Informatique      5\n",
      "2     Clavier    45   Accessoires      8\n",
      "5      Casque    80         Audio      6\n",
      "6  Imprimante   150  Informatique      4\n",
      "\n",
      "4. DataFrame avec la valeur du stock :\n",
      "          Nom  Prix     Catégorie  Stock  Valeur_Stock\n",
      "0  Ordinateur  1200  Informatique      5          6000\n",
      "1      Souris    25   Accessoires     15           375\n",
      "2     Clavier    45   Accessoires      8           360\n",
      "3       Écran   300  Informatique     12          3600\n",
      "4      Webcam    50   Accessoires     20          1000\n",
      "5      Casque    80         Audio      6           480\n",
      "6  Imprimante   150  Informatique      4           600\n",
      "7    Tablette   400  Informatique     10          4000\n",
      "\n",
      "5. Résumé par catégorie :\n",
      "              Nombre_Produits  Valeur_Totale_Stock  Prix_Moyen  Stock_Minimum\n",
      "Catégorie                                                                    \n",
      "Accessoires                 3                 1735        40.0              8\n",
      "Audio                       1                  480        80.0              6\n",
      "Informatique                4                14200       512.5              4\n",
      "\n",
      "Bonus - Statistiques globales :\n",
      "Valeur totale de l'inventaire : 16,415.00 €\n",
      "Nombre total de produits en stock : 80\n",
      "Prix moyen tous produits confondus : 281.25 €\n"
     ]
    }
   ],
   "source": [
    "# 1. Création du DataFrame des produits\n",
    "produits = pd.DataFrame({\n",
    "    'Nom': ['Ordinateur', 'Souris', 'Clavier', 'Écran', 'Webcam', 'Casque', 'Imprimante', 'Tablette'],\n",
    "    'Prix': [1200, 25, 45, 300, 50, 80, 150, 400],\n",
    "    'Catégorie': ['Informatique', 'Accessoires', 'Accessoires', 'Informatique', \n",
    "                  'Accessoires', 'Audio', 'Informatique', 'Informatique'],\n",
    "    'Stock': [5, 15, 8, 12, 20, 6, 4, 10]\n",
    "})\n",
    "\n",
    "print(\"1. DataFrame initial des produits :\")\n",
    "print(produits)\n",
    "\n",
    "# 2. Prix moyen par catégorie\n",
    "prix_moyen = produits.groupby('Catégorie')['Prix'].mean().round(2)\n",
    "print(\"\\n2. Prix moyen par catégorie :\")\n",
    "print(prix_moyen)\n",
    "\n",
    "# 3. Produits avec stock faible\n",
    "stock_faible = produits[produits['Stock'] < 10]\n",
    "print(\"\\n3. Produits avec stock inférieur à 10 :\")\n",
    "print(stock_faible)\n",
    "\n",
    "# 4. Ajout de la colonne Valeur_Stock\n",
    "produits['Valeur_Stock'] = produits['Prix'] * produits['Stock']\n",
    "print(\"\\n4. DataFrame avec la valeur du stock :\")\n",
    "print(produits)\n",
    "\n",
    "# 5. Résumé par catégorie avec agrégations multiples\n",
    "resume = produits.groupby('Catégorie').agg({\n",
    "    'Nom': 'count',  # Nombre de produits\n",
    "    'Valeur_Stock': 'sum',  # Valeur totale du stock\n",
    "    'Prix': 'mean',  # Prix moyen\n",
    "    'Stock': 'min'   # Stock minimum\n",
    "}).round(2)\n",
    "\n",
    "# Renommage des colonnes pour plus de clarté\n",
    "resume.columns = ['Nombre_Produits', 'Valeur_Totale_Stock', 'Prix_Moyen', 'Stock_Minimum']\n",
    "\n",
    "print(\"\\n5. Résumé par catégorie :\")\n",
    "print(resume)\n",
    "\n",
    "# Bonus : Ajout de statistiques globales\n",
    "print(\"\\nBonus - Statistiques globales :\")\n",
    "print(f\"Valeur totale de l'inventaire : {produits['Valeur_Stock'].sum():,.2f} €\")\n",
    "print(f\"Nombre total de produits en stock : {produits['Stock'].sum()}\")\n",
    "print(f\"Prix moyen tous produits confondus : {produits['Prix'].mean():.2f} €\")"
   ]
  },
  {
   "cell_type": "markdown",
   "metadata": {},
   "source": [
    "### 2.7 Cas pratique : Analyse de la consommation mondiale de boissons\n",
    "\n",
    "Pour illustrer l'utilisation des DataFrames sur un cas réel, analysons un jeu de données sur la consommation de boissons par pays."
   ]
  },
  {
   "cell_type": "code",
   "execution_count": 36,
   "metadata": {},
   "outputs": [
    {
     "name": "stdout",
     "output_type": "stream",
     "text": [
      "Aperçu des 5 premières lignes :\n",
      "       country  beer_servings  spirit_servings  wine_servings  \\\n",
      "0  Afghanistan              0                0              0   \n",
      "1      Albania             89              132             54   \n",
      "2      Algeria             25                0             14   \n",
      "3      Andorra            245              138            312   \n",
      "4       Angola            217               57             45   \n",
      "\n",
      "   total_litres_of_pure_alcohol continent  \n",
      "0                           0.0        AS  \n",
      "1                           4.9        EU  \n",
      "2                           0.7        AF  \n",
      "3                          12.4        EU  \n",
      "4                           5.9        AF  \n",
      "\n",
      "Informations sur le dataset :\n",
      "<class 'pandas.core.frame.DataFrame'>\n",
      "RangeIndex: 193 entries, 0 to 192\n",
      "Data columns (total 6 columns):\n",
      " #   Column                        Non-Null Count  Dtype  \n",
      "---  ------                        --------------  -----  \n",
      " 0   country                       193 non-null    object \n",
      " 1   beer_servings                 193 non-null    int64  \n",
      " 2   spirit_servings               193 non-null    int64  \n",
      " 3   wine_servings                 193 non-null    int64  \n",
      " 4   total_litres_of_pure_alcohol  193 non-null    float64\n",
      " 5   continent                     170 non-null    object \n",
      "dtypes: float64(1), int64(3), object(2)\n",
      "memory usage: 9.2+ KB\n",
      "None\n"
     ]
    }
   ],
   "source": [
    "# Chargement des données\n",
    "url = \"https://raw.githubusercontent.com/justmarkham/DAT8/master/data/drinks.csv\"\n",
    "drinks = pd.read_csv(url)\n",
    "\n",
    "# Aperçu des données\n",
    "print(\"Aperçu des 5 premières lignes :\")\n",
    "print(drinks.head())\n",
    "\n",
    "print(\"\\nInformations sur le dataset :\")\n",
    "print(drinks.info())"
   ]
  },
  {
   "cell_type": "markdown",
   "metadata": {},
   "source": [
    "Le dataset contient les informations suivantes pour chaque pays :\n",
    "- beer_servings : Consommation de bière (verres par personne par an)\n",
    "- spirit_servings : Consommation de spiritueux\n",
    "- wine_servings : Consommation de vin\n",
    "- total_litres_of_pure_alcohol : Consommation totale d'alcool pur"
   ]
  },
  {
   "cell_type": "code",
   "execution_count": 37,
   "metadata": {},
   "outputs": [
    {
     "name": "stdout",
     "output_type": "stream",
     "text": [
      "Statistiques de consommation par continent :\n",
      "          beer_servings          wine_servings          spirit_servings      \\\n",
      "                   mean min  max          mean min  max            mean min   \n",
      "continent                                                                     \n",
      "AF                 61.5   0  376          16.3   0  233            16.3   0   \n",
      "AS                 37.0   0  247           9.1   0  123            60.8   0   \n",
      "EU                193.8   0  361         142.2   0  370           132.6   0   \n",
      "OC                 89.7   0  306          35.6   0  212            58.4   0   \n",
      "SA                175.1  93  333          62.4   1  221           114.8  25   \n",
      "\n",
      "               total_litres_of_pure_alcohol  \n",
      "           max                         mean  \n",
      "continent                                    \n",
      "AF         152                          3.0  \n",
      "AS         326                          2.2  \n",
      "EU         373                          8.6  \n",
      "OC         254                          3.4  \n",
      "SA         302                          6.3  \n",
      "\n",
      "Top 5 des pays consommateurs de bière :\n",
      "            country  beer_servings\n",
      "117         Namibia            376\n",
      "45   Czech Republic            361\n",
      "62            Gabon            347\n",
      "65          Germany            346\n",
      "98        Lithuania            343\n",
      "\n",
      "Consommation moyenne mondiale par type :\n",
      "beer_servings      106.160622\n",
      "spirit_servings     80.994819\n",
      "wine_servings       49.450777\n",
      "dtype: float64\n",
      "\n",
      "Nombre de pays sans alcool : 13\n",
      "Liste des pays sans alcool :\n",
      "['Afghanistan', 'Bangladesh', 'North Korea', 'Iran', 'Kuwait', 'Libya', 'Maldives', 'Marshall Islands', 'Mauritania', 'Monaco', 'Pakistan', 'San Marino', 'Somalia']\n",
      "\n",
      "Corrélations entre les types de boissons :\n",
      "                 beer_servings  spirit_servings  wine_servings\n",
      "beer_servings         1.000000         0.458819       0.527172\n",
      "spirit_servings       0.458819         1.000000       0.194797\n",
      "wine_servings         0.527172         0.194797       1.000000\n"
     ]
    }
   ],
   "source": [
    "# Analyse par continent\n",
    "stats_par_continent = drinks.groupby('continent').agg({\n",
    "    'beer_servings': ['mean', 'min', 'max'],\n",
    "    'wine_servings': ['mean', 'min', 'max'],\n",
    "    'spirit_servings': ['mean', 'min', 'max'],\n",
    "    'total_litres_of_pure_alcohol': 'mean'\n",
    "}).round(1)\n",
    "\n",
    "print(\"Statistiques de consommation par continent :\")\n",
    "print(stats_par_continent)\n",
    "\n",
    "# Top 5 des pays consommateurs de bière\n",
    "print(\"\\nTop 5 des pays consommateurs de bière :\")\n",
    "print(drinks.nlargest(5, 'beer_servings')[['country', 'beer_servings']])\n",
    "\n",
    "# Consommation moyenne par type de boisson\n",
    "moyennes = drinks[['beer_servings', 'spirit_servings', 'wine_servings']].mean()\n",
    "print(\"\\nConsommation moyenne mondiale par type :\")\n",
    "print(moyennes)\n",
    "\n",
    "# Pays sans alcool (total = 0)\n",
    "pays_sans_alcool = drinks[drinks['total_litres_of_pure_alcohol'] == 0]\n",
    "print(f\"\\nNombre de pays sans alcool : {len(pays_sans_alcool)}\")\n",
    "print(\"Liste des pays sans alcool :\")\n",
    "print(pays_sans_alcool['country'].tolist())\n",
    "\n",
    "# Corrélations entre les différentes boissons\n",
    "correlations = drinks[['beer_servings', 'spirit_servings', 'wine_servings']].corr()\n",
    "print(\"\\nCorrélations entre les types de boissons :\")\n",
    "print(correlations)"
   ]
  },
  {
   "cell_type": "markdown",
   "metadata": {},
   "source": [
    "### 2.8 Exercices sur le dataset drinks\n",
    "\n",
    "1. Trouvez le top 3 des pays pour chaque type de boisson\n",
    "2. Calculez la consommation totale de boissons (beer + spirit + wine) par pays\n",
    "3. Pour chaque continent, trouvez :\n",
    "   - Le pays qui consomme le plus d'alcool total\n",
    "   - Le ratio vin/bière moyen\n",
    "4. Identifiez les pays où la consommation de vin est supérieure à celle de bière"
   ]
  },
  {
   "cell_type": "code",
   "execution_count": 38,
   "metadata": {},
   "outputs": [
    {
     "name": "stdout",
     "output_type": "stream",
     "text": [
      "1. Top 3 par type de boisson :\n",
      "\n",
      "Top 3 - Bière :\n",
      "            country  beer_servings\n",
      "117         Namibia            376\n",
      "45   Czech Republic            361\n",
      "62            Gabon            347\n",
      "\n",
      "Top 3 - Spiritueux :\n",
      "    country  spirit_servings\n",
      "68  Grenada              438\n",
      "15  Belarus              373\n",
      "73    Haiti              326\n",
      "\n",
      "Top 3 - Vin :\n",
      "      country  wine_servings\n",
      "61     France            370\n",
      "136  Portugal            339\n",
      "3     Andorra            312\n",
      "\n",
      "2. Top 5 des pays par consommation totale de boissons :\n",
      "                country  total_servings\n",
      "3               Andorra             695\n",
      "45       Czech Republic             665\n",
      "68              Grenada             665\n",
      "61               France             648\n",
      "141  Russian Federation             646\n",
      "\n",
      "3a. Pays avec le plus d'alcool total par continent :\n",
      "    continent             country  total_litres_of_pure_alcohol\n",
      "124        AF             Nigeria                           9.1\n",
      "141        AS  Russian Federation                          11.5\n",
      "15         EU             Belarus                          14.4\n",
      "8          OC           Australia                          10.4\n",
      "6          SA           Argentina                           8.3\n",
      "\n",
      "3b. Ratio vin/bière moyen par continent :\n",
      "continent\n",
      "AF    0.26\n",
      "AS    0.36\n",
      "EU    0.86\n",
      "OC    4.90\n",
      "SA    0.42\n",
      "Name: wine_beer_ratio, dtype: float64\n",
      "\n",
      "4. Pays où on boit plus de vin que de bière :\n",
      "                 country  wine_servings  beer_servings\n",
      "61                France            370            127\n",
      "136             Portugal            339            194\n",
      "3                Andorra            312            245\n",
      "166          Switzerland            280            185\n",
      "48               Denmark            278            224\n",
      "156             Slovenia            276            270\n",
      "99            Luxembourg            271            236\n",
      "42               Croatia            254            230\n",
      "83                 Italy            237             85\n",
      "55     Equatorial Guinea            233             92\n",
      "6              Argentina            221            193\n",
      "185              Uruguay            220            115\n",
      "67                Greece            218            133\n",
      "165               Sweden            186            152\n",
      "35                 Chile            172            130\n",
      "64               Georgia            149             52\n",
      "148  Sao Tome & Principe            140             56\n",
      "113           Montenegro            128             31\n",
      "92                  Laos            123             62\n",
      "40          Cook Islands             74              0\n",
      "177         Turkmenistan             32             19\n",
      "94               Lebanon             31             20\n",
      "167                Syria             16              5\n",
      "178               Tuvalu              9              6\n",
      "137                Qatar              7              1\n",
      "171          Timor-Leste              4              1\n",
      "\n",
      "BONUS - Statistiques supplémentaires :\n",
      "\n",
      "Pourcentage de pays par boisson dominante :\n",
      "beer      59.1\n",
      "spirit    30.6\n",
      "wine      10.4\n",
      "Name: boisson_dominante, dtype: float64\n",
      "\n",
      "Statistiques détaillées par continent :\n",
      "          beer_servings       wine_servings       spirit_servings        \\\n",
      "                   mean   std          mean   std            mean   std   \n",
      "continent                                                                 \n",
      "AF                 61.5  80.6          16.3  38.8            16.3  28.1   \n",
      "AS                 37.0  49.5           9.1  21.7            60.8  84.4   \n",
      "EU                193.8  99.6         142.2  97.4           132.6  77.6   \n",
      "OC                 89.7  96.6          35.6  64.6            58.4  70.5   \n",
      "SA                175.1  65.2          62.4  88.6           114.8  77.1   \n",
      "\n",
      "          total_litres_of_pure_alcohol       \n",
      "                                  mean  std  \n",
      "continent                                    \n",
      "AF                                 3.0  2.6  \n",
      "AS                                 2.2  2.8  \n",
      "EU                                 8.6  3.4  \n",
      "OC                                 3.4  3.3  \n",
      "SA                                 6.3  1.5  \n"
     ]
    }
   ],
   "source": [
    "import pandas as pd\n",
    "\n",
    "# Rechargement des données pour être sûr\n",
    "url = \"https://raw.githubusercontent.com/justmarkham/DAT8/master/data/drinks.csv\"\n",
    "drinks = pd.read_csv(url)\n",
    "\n",
    "# 1. Top 3 des pays pour chaque type de boisson\n",
    "print(\"1. Top 3 par type de boisson :\")\n",
    "\n",
    "print(\"\\nTop 3 - Bière :\")\n",
    "print(drinks.nlargest(3, 'beer_servings')[['country', 'beer_servings']])\n",
    "\n",
    "print(\"\\nTop 3 - Spiritueux :\")\n",
    "print(drinks.nlargest(3, 'spirit_servings')[['country', 'spirit_servings']])\n",
    "\n",
    "print(\"\\nTop 3 - Vin :\")\n",
    "print(drinks.nlargest(3, 'wine_servings')[['country', 'wine_servings']])\n",
    "\n",
    "# 2. Consommation totale de boissons par pays\n",
    "drinks['total_servings'] = drinks['beer_servings'] + drinks['spirit_servings'] + drinks['wine_servings']\n",
    "print(\"\\n2. Top 5 des pays par consommation totale de boissons :\")\n",
    "print(drinks.nlargest(5, 'total_servings')[['country', 'total_servings']])\n",
    "\n",
    "# 3. Analyse par continent\n",
    "# Pays avec le plus d'alcool total par continent\n",
    "max_par_continent = drinks.loc[drinks.groupby('continent')['total_litres_of_pure_alcohol'].idxmax()]\n",
    "print(\"\\n3a. Pays avec le plus d'alcool total par continent :\")\n",
    "print(max_par_continent[['continent', 'country', 'total_litres_of_pure_alcohol']])\n",
    "\n",
    "# Calcul du ratio vin/bière moyen par continent\n",
    "# On ajoute 1 à beer_servings pour éviter la division par zéro\n",
    "drinks['wine_beer_ratio'] = drinks['wine_servings'] / (drinks['beer_servings'] + 1)\n",
    "ratio_moyen = drinks.groupby('continent')['wine_beer_ratio'].mean().round(2)\n",
    "print(\"\\n3b. Ratio vin/bière moyen par continent :\")\n",
    "print(ratio_moyen)\n",
    "\n",
    "# 4. Pays où la consommation de vin > bière\n",
    "pays_plus_vin = drinks[drinks['wine_servings'] > drinks['beer_servings']]\n",
    "print(\"\\n4. Pays où on boit plus de vin que de bière :\")\n",
    "print(pays_plus_vin[['country', 'wine_servings', 'beer_servings']].sort_values(by='wine_servings', ascending=False))\n",
    "\n",
    "# Bonus : Quelques statistiques intéressantes supplémentaires\n",
    "print(\"\\nBONUS - Statistiques supplémentaires :\")\n",
    "\n",
    "# Pourcentage de pays par type de boisson dominant\n",
    "drinks['boisson_dominante'] = drinks[['beer_servings', 'spirit_servings', 'wine_servings']].idxmax(axis=1)\n",
    "drinks['boisson_dominante'] = drinks['boisson_dominante'].str.replace('_servings', '')\n",
    "dominance = drinks['boisson_dominante'].value_counts(normalize=True).round(3) * 100\n",
    "print(\"\\nPourcentage de pays par boisson dominante :\")\n",
    "print(dominance)\n",
    "\n",
    "# Moyenne de consommation par continent avec agg\n",
    "stats_detaillees = drinks.groupby('continent').agg({\n",
    "    'beer_servings': ['mean', 'std'],\n",
    "    'wine_servings': ['mean', 'std'],\n",
    "    'spirit_servings': ['mean', 'std'],\n",
    "    'total_litres_of_pure_alcohol': ['mean', 'std']\n",
    "}).round(1)\n",
    "\n",
    "print(\"\\nStatistiques détaillées par continent :\")\n",
    "print(stats_detaillees)"
   ]
  },
  {
   "cell_type": "markdown",
   "metadata": {},
   "source": [
    "## 3. Cas pratique : Analyse de la tragédie du Titanic\n",
    "\n",
    "Le naufrage du Titanic est l'une des plus célèbres tragédies maritimes. Analysons les données des passagers pour comprendre les facteurs qui ont influencé la survie.\n",
    "\n",
    "### 3.1 Chargement et exploration des données"
   ]
  },
  {
   "cell_type": "code",
   "execution_count": 39,
   "metadata": {},
   "outputs": [
    {
     "name": "stdout",
     "output_type": "stream",
     "text": [
      "Aperçu des premières lignes :\n",
      "   PassengerId  Survived  Pclass  \\\n",
      "0            1         0       3   \n",
      "1            2         1       1   \n",
      "2            3         1       3   \n",
      "3            4         1       1   \n",
      "4            5         0       3   \n",
      "\n",
      "                                                Name     Sex   Age  SibSp  \\\n",
      "0                            Braund, Mr. Owen Harris    male  22.0      1   \n",
      "1  Cumings, Mrs. John Bradley (Florence Briggs Th...  female  38.0      1   \n",
      "2                              Heikkinen, Miss Laina  female  26.0      0   \n",
      "3       Futrelle, Mrs. Jacques Heath (Lily May Peel)  female  35.0      1   \n",
      "4                           Allen, Mr. William Henry    male  35.0      0   \n",
      "\n",
      "   Parch            Ticket     Fare Cabin Embarked  \n",
      "0      0         A/5 21171   7.2500   NaN        S  \n",
      "1      0          PC 17599  71.2833   C85        C  \n",
      "2      0  STON/O2. 3101282   7.9250   NaN        S  \n",
      "3      0            113803  53.1000  C123        S  \n",
      "4      0            373450   8.0500   NaN        S  \n",
      "\n",
      "Informations sur le dataset :\n",
      "<class 'pandas.core.frame.DataFrame'>\n",
      "RangeIndex: 891 entries, 0 to 890\n",
      "Data columns (total 12 columns):\n",
      " #   Column       Non-Null Count  Dtype  \n",
      "---  ------       --------------  -----  \n",
      " 0   PassengerId  891 non-null    int64  \n",
      " 1   Survived     891 non-null    int64  \n",
      " 2   Pclass       891 non-null    int64  \n",
      " 3   Name         891 non-null    object \n",
      " 4   Sex          891 non-null    object \n",
      " 5   Age          714 non-null    float64\n",
      " 6   SibSp        891 non-null    int64  \n",
      " 7   Parch        891 non-null    int64  \n",
      " 8   Ticket       891 non-null    object \n",
      " 9   Fare         891 non-null    float64\n",
      " 10  Cabin        204 non-null    object \n",
      " 11  Embarked     889 non-null    object \n",
      "dtypes: float64(2), int64(5), object(5)\n",
      "memory usage: 83.7+ KB\n",
      "None\n"
     ]
    }
   ],
   "source": [
    "# Chargement des données\n",
    "url = \"https://raw.githubusercontent.com/pandas-dev/pandas/master/doc/data/titanic.csv\"\n",
    "titanic = pd.read_csv(url)\n",
    "\n",
    "# Aperçu des données\n",
    "print(\"Aperçu des premières lignes :\")\n",
    "print(titanic.head())\n",
    "\n",
    "print(\"\\nInformations sur le dataset :\")\n",
    "print(titanic.info())"
   ]
  },
  {
   "cell_type": "markdown",
   "metadata": {},
   "source": [
    "### 3.2 Exercices d'analyse\n",
    "\n",
    "1. Analyse démographique de base :\n",
    "   - Calculez l'âge moyen des passagers\n",
    "   - Quelle est la répartition hommes/femmes ?\n",
    "   - Quelle est la répartition par classe ?\n",
    "\n",
    "2. Analyse de la survie :\n",
    "   - Quel est le taux de survie global ?\n",
    "   - Comparez les taux de survie par classe\n",
    "   - Comparez les taux de survie homme/femme\n",
    "   - Y a-t-il une corrélation entre l'âge et la survie ?\n",
    "\n",
    "3. Analyse des cabines :\n",
    "   - Combien de passagers ont une information de cabine ?\n",
    "   - La présence d'une information de cabine est-elle corrélée à la survie ?\n",
    "   - Quelle classe avait le plus de cabines assignées ?\n",
    "\n",
    "4. Analyse familiale :\n",
    "   - Calculez le nombre moyen de parents/enfants par passager\n",
    "   - Les personnes voyageant en famille ont-elles eu plus de chances de survivre ?\n",
    "   - Quel était le nombre idéal de membres de famille pour maximiser ses chances ?\n",
    "\n",
    "5. Analyse des tarifs :\n",
    "   - Quel était le tarif moyen par classe ?\n",
    "   - Existe-t-il une corrélation entre le tarif et la survie ?\n",
    "   - Identifiez les outliers dans les tarifs\n",
    "\n",
    "6. Créez un résumé statistique complet montrant :\n",
    "   - Pour chaque classe : taux de survie, âge moyen, tarif moyen\n",
    "   - Pour chaque port d'embarquement : nombre de passagers et taux de survie\n",
    "   - Pour chaque taille de famille : nombre de passagers et taux de survie"
   ]
  },
  {
   "cell_type": "code",
   "execution_count": 40,
   "metadata": {},
   "outputs": [],
   "source": [
    "# Voici quelques fonctions utiles pour l'analyse :\n",
    "\n",
    "def taux_survie(groupe):\n",
    "    \"\"\"Calcule le taux de survie pour un groupe donné\"\"\"\n",
    "    return (groupe['survived'].mean() * 100).round(1)\n",
    "\n",
    "def resume_par_groupe(df, colonne):\n",
    "    \"\"\"Crée un résumé statistique pour une colonne donnée\"\"\"\n",
    "    return df.groupby(colonne).agg({\n",
    "        'survived': ['count', 'mean'],\n",
    "        'age': ['mean', 'median'],\n",
    "        'fare': ['mean', 'median']\n",
    "    }).round(2)"
   ]
  },
  {
   "cell_type": "markdown",
   "metadata": {},
   "source": [
    "### 3.3 Solutions :"
   ]
  },
  {
   "cell_type": "code",
   "execution_count": null,
   "metadata": {},
   "outputs": [],
   "source": [
    "import pandas as pd\n",
    "import numpy as np\n",
    "\n",
    "# Chargement des données\n",
    "url = \"https://raw.githubusercontent.com/pandas-dev/pandas/master/doc/data/titanic.csv\"\n",
    "titanic = pd.read_csv(url)\n",
    "\n",
    "# 1. Analyse démographique de base\n",
    "print(\"1. ANALYSE DÉMOGRAPHIQUE\")\n",
    "\n",
    "# Âge moyen (en gérant les valeurs manquantes)\n",
    "age_moyen = titanic['age'].mean()\n",
    "print(f\"\\nÂge moyen des passagers : {age_moyen:.1f} ans\")\n",
    "\n",
    "# Répartition homme/femme\n",
    "repartition_sexe = titanic['sex'].value_counts()\n",
    "pourcentage_sexe = titanic['sex'].value_counts(normalize=True).round(3) * 100\n",
    "print(\"\\nRépartition par sexe:\")\n",
    "print(f\"Nombre absolu:\\n{repartition_sexe}\")\n",
    "print(f\"Pourcentage:\\n{pourcentage_sexe}\")\n",
    "\n",
    "# Répartition par classe\n",
    "repartition_classe = titanic['class'].value_counts()\n",
    "pourcentage_classe = titanic['class'].value_counts(normalize=True).round(3) * 100\n",
    "print(\"\\nRépartition par classe:\")\n",
    "print(f\"Nombre absolu:\\n{repartition_classe}\")\n",
    "print(f\"Pourcentage:\\n{pourcentage_classe}\")\n",
    "\n",
    "# 2. Analyse de la survie\n",
    "print(\"\\n2. ANALYSE DE LA SURVIE\")\n",
    "\n",
    "# Taux de survie global\n",
    "taux_survie_global = (titanic['survived'].mean() * 100).round(1)\n",
    "print(f\"\\nTaux de survie global : {taux_survie_global}%\")\n",
    "\n",
    "# Taux de survie par classe\n",
    "survie_classe = titanic.groupby('class')['survived'].agg(['count', 'mean'])\n",
    "survie_classe['mean'] = survie_classe['mean'] * 100\n",
    "print(\"\\nTaux de survie par classe :\")\n",
    "print(survie_classe)\n",
    "\n",
    "# Taux de survie par sexe\n",
    "survie_sexe = titanic.groupby('sex')['survived'].agg(['count', 'mean'])\n",
    "survie_sexe['mean'] = survie_sexe['mean'] * 100\n",
    "print(\"\\nTaux de survie par sexe :\")\n",
    "print(survie_sexe)\n",
    "\n",
    "# Corrélation âge/survie\n",
    "# On crée des groupes d'âge pour mieux analyser\n",
    "titanic['age_group'] = pd.cut(titanic['age'], \n",
    "                             bins=[0, 12, 18, 35, 50, 100],\n",
    "                             labels=['Enfant', 'Adolescent', 'Jeune adulte', 'Adulte', 'Senior'])\n",
    "survie_age = titanic.groupby('age_group')['survived'].mean() * 100\n",
    "print(\"\\nTaux de survie par groupe d'âge :\")\n",
    "print(survie_age)\n",
    "\n",
    "# 3. Analyse des cabines\n",
    "print(\"\\n3. ANALYSE DES CABINES\")\n",
    "\n",
    "# Nombre de passagers avec information de cabine\n",
    "a_cabine = titanic['cabin'].notna().sum()\n",
    "print(f\"\\nNombre de passagers avec information de cabine : {a_cabine}\")\n",
    "print(f\"Pourcentage : {(a_cabine/len(titanic)*100):.1f}%\")\n",
    "\n",
    "# Corrélation cabine/survie\n",
    "survie_cabine = titanic.groupby(titanic['cabin'].isna())['survived'].agg(['count', 'mean'])\n",
    "survie_cabine['mean'] = survie_cabine['mean'] * 100\n",
    "print(\"\\nTaux de survie selon présence d'une cabine :\")\n",
    "print(survie_cabine)\n",
    "\n",
    "# Cabines par classe\n",
    "cabines_classe = titanic.groupby('class')['cabin'].notna().agg(['count', 'sum'])\n",
    "cabines_classe['pourcentage'] = (cabines_classe['sum'] / cabines_classe['count'] * 100).round(1)\n",
    "print(\"\\nPourcentage de cabines assignées par classe :\")\n",
    "print(cabines_classe)\n",
    "\n",
    "# 4. Analyse familiale\n",
    "print(\"\\n4. ANALYSE FAMILIALE\")\n",
    "\n",
    "# Création d'une colonne taille_famille\n",
    "titanic['taille_famille'] = titanic['sibsp'] + titanic['parch']\n",
    "moyenne_famille = titanic['taille_famille'].mean()\n",
    "print(f\"\\nNombre moyen de membres de famille par passager : {moyenne_famille:.2f}\")\n",
    "\n",
    "# Survie selon taille de la famille\n",
    "survie_famille = titanic.groupby('taille_famille')['survived'].agg(['count', 'mean'])\n",
    "survie_famille['mean'] = survie_famille['mean'] * 100\n",
    "print(\"\\nTaux de survie par taille de famille :\")\n",
    "print(survie_famille)\n",
    "\n",
    "# 5. Analyse des tarifs\n",
    "print(\"\\n5. ANALYSE DES TARIFS\")\n",
    "\n",
    "# Tarif moyen par classe\n",
    "tarifs_classe = titanic.groupby('class')['fare'].agg(['mean', 'min', 'max']).round(2)\n",
    "print(\"\\nAnalyse des tarifs par classe :\")\n",
    "print(tarifs_classe)\n",
    "\n",
    "# Corrélation tarif/survie\n",
    "# On crée des groupes de tarifs pour mieux analyser\n",
    "titanic['fare_group'] = pd.qcut(titanic['fare'], \n",
    "                               q=4, \n",
    "                               labels=['Économique', 'Modéré', 'Élevé', 'Luxe'])\n",
    "survie_tarif = titanic.groupby('fare_group')['survived'].mean() * 100\n",
    "print(\"\\nTaux de survie par groupe tarifaire :\")\n",
    "print(survie_tarif)\n",
    "\n",
    "# 6. Résumé statistique complet\n",
    "print(\"\\n6. RÉSUMÉ STATISTIQUE COMPLET\")\n",
    "\n",
    "# Résumé par classe\n",
    "resume_classe = titanic.groupby('class').agg({\n",
    "    'survived': 'mean',\n",
    "    'age': 'mean',\n",
    "    'fare': 'mean'\n",
    "}).round(2)\n",
    "resume_classe['survived'] = resume_classe['survived'] * 100\n",
    "print(\"\\nRésumé par classe :\")\n",
    "print(resume_classe)\n",
    "\n",
    "# Résumé par port d'embarquement\n",
    "resume_port = titanic.groupby('embarked').agg({\n",
    "    'survived': ['count', 'mean']\n",
    "}).round(3)\n",
    "resume_port[('survived', 'mean')] *= 100\n",
    "print(\"\\nRésumé par port d'embarquement :\")\n",
    "print(resume_port)\n",
    "\n",
    "# Résumé par taille de famille\n",
    "resume_famille = titanic.groupby('taille_famille').agg({\n",
    "    'survived': ['count', 'mean']\n",
    "}).round(3)\n",
    "resume_famille[('survived', 'mean')] *= 100\n",
    "print(\"\\nRésumé par taille de famille :\")\n",
    "print(resume_famille)"
   ]
  }
 ],
 "metadata": {
  "kernelspec": {
   "display_name": "Python 3",
   "language": "python",
   "name": "python3"
  },
  "language_info": {
   "codemirror_mode": {
    "name": "ipython",
    "version": 3
   },
   "file_extension": ".py",
   "mimetype": "text/x-python",
   "name": "python",
   "nbconvert_exporter": "python",
   "pygments_lexer": "ipython3",
   "version": "3.8.3"
  }
 },
 "nbformat": 4,
 "nbformat_minor": 4
}
