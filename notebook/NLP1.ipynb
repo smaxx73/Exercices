{
 "cells": [
  {
   "cell_type": "markdown",
   "metadata": {},
   "source": [
    "# Introduction au Traitement du Langage Naturel (NLP)\n",
    "# Applications en Cybersécurité\n",
    "\n",
    "## 1. Objectifs du cours\n",
    "Ce notebook vous permettra de :\n",
    "- Comprendre les concepts fondamentaux du NLP\n",
    "- Découvrir les principales applications en cybersécurité\n",
    "- Prendre en main les outils de base (NLTK, spaCy)\n",
    "- Réaliser vos premières analyses de texte\n",
    "\n",
    "## 2. Installation et configuration"
   ]
  },
  {
   "cell_type": "code",
   "execution_count": null,
   "metadata": {},
   "outputs": [],
   "source": [
    "# Installation des packages nécessaires (à faire une seule fois)\n",
    "#!pip install nltk scikit-learn"
   ]
  },
  {
   "cell_type": "code",
   "execution_count": null,
   "metadata": {},
   "outputs": [],
   "source": [
    "import nltk\n",
    "# Téléchargement des ressources NLTK nécessaires\n",
    "nltk.download('punkt')\n",
    "nltk.download('stopwords')"
   ]
  },
  {
   "cell_type": "code",
   "execution_count": null,
   "metadata": {},
   "outputs": [],
   "source": [
    "# Importation des bibliothèques\n",
    "from nltk.tokenize import word_tokenize, sent_tokenize\n",
    "from nltk.corpus import stopwords\n",
    "import pandas as pd\n",
    "import numpy as np\n",
    "from collections import Counter\n",
    "\n"
   ]
  },
  {
   "cell_type": "markdown",
   "metadata": {},
   "source": [
    "## 3. Concepts fondamentaux du NLP\n",
    "\n",
    "### 3.1 Qu'est-ce que le NLP ?\n",
    "\n",
    "Le NLP (Natural Language Processing) est un domaine de l'intelligence artificielle qui permet aux ordinateurs de comprendre, interpréter et manipuler le langage humain.\n",
    "\n",
    "### 3.2 Premier exemple pratique"
   ]
  },
  {
   "cell_type": "code",
   "execution_count": null,
   "metadata": {},
   "outputs": [],
   "source": [
    "# Exemple simple d'analyse de texte\n",
    "texte = \"\"\"\n",
    "Un utilisateur signale avoir reçu un mail suspect demandant ses identifiants bancaires.\n",
    "Le message prétend provenir de la banque BNP et mentionne une urgence.\n",
    "\"\"\""
   ]
  },
  {
   "cell_type": "code",
   "execution_count": null,
   "metadata": {},
   "outputs": [],
   "source": [
    "# Division en phrases\n",
    "phrases = sent_tokenize(texte, language='french')\n",
    "print(\"Phrases détectées :\")\n",
    "for phrase in phrases:\n",
    "    print(f\"- {phrase.strip()}\")"
   ]
  },
  {
   "cell_type": "code",
   "execution_count": null,
   "metadata": {},
   "outputs": [],
   "source": [
    "# Division en mots (tokens)\n",
    "mots = word_tokenize(texte, language='french')\n",
    "print(\"\\nMots détectés :\")\n",
    "print(mots)"
   ]
  },
  {
   "cell_type": "code",
   "execution_count": null,
   "metadata": {},
   "outputs": [],
   "source": [
    "# Analyse de fréquence des mots\n",
    "frequence = Counter(mots)\n",
    "print(\"\\nFréquence des mots :\")\n",
    "for mot, freq in frequence.most_common(5):\n",
    "    print(f\"{mot:15} - {freq} occurrences\")"
   ]
  },
  {
   "cell_type": "markdown",
   "metadata": {},
   "source": [
    "## 4. Applications en Cybersécurité\n",
    "\n",
    "### 4.1 Exemples d'utilisation du NLP en sécurité\n"
   ]
  },
  {
   "cell_type": "code",
   "execution_count": null,
   "metadata": {},
   "outputs": [],
   "source": [
    "def analyser_message_suspect(message):\n",
    "    \"\"\"\n",
    "    Fonction simple pour détecter des indicateurs de base de phishing\n",
    "    \"\"\"\n",
    "    # Conversion en minuscules et tokenization\n",
    "    mots = word_tokenize(message.lower(), language='french')\n",
    "    \n",
    "    # Indicateurs de suspicion\n",
    "    mots_suspects = ['urgent', 'bancaire', 'identifiant', 'password', 'compte', 'urgence']\n",
    "    score_suspicion = sum(1 for mot in mots if mot in mots_suspects)\n",
    "    \n",
    "    return score_suspicion"
   ]
  },
  {
   "cell_type": "code",
   "execution_count": null,
   "metadata": {},
   "outputs": [],
   "source": [
    "# Exemple d'utilisation\n",
    "messages = [\n",
    "    \"Votre compte a été suspendu. Urgent : confirmez vos identifiants bancaires.\",\n",
    "    \"La réunion de projet est reportée à lundi prochain.\",\n",
    "    \"URGENT : Problème de sécurité détecté. Changez votre password immédiatement.\"\n",
    "]"
   ]
  },
  {
   "cell_type": "code",
   "execution_count": null,
   "metadata": {},
   "outputs": [],
   "source": [
    "for msg in messages:\n",
    "    score = analyser_message_suspect(msg)\n",
    "    print(f\"\\nMessage : {msg}\")\n",
    "    print(f\"Score de suspicion : {score}\")"
   ]
  },
  {
   "cell_type": "markdown",
   "metadata": {},
   "source": [
    "## 5. Exercices pratiques\n",
    "\n"
   ]
  },
  {
   "cell_type": "markdown",
   "metadata": {},
   "source": [
    "### Exercice 1 : Analyse basique d'un log de sécurité\n",
    "À vous de jouer !\n",
    " 1. Utilisez word_tokenize pour découper le log en mots\n",
    " 2. Extrayez les informations importantes (dates, IP, types d'événements)\n",
    " 3. Créez une fonction pour classifier la gravité des événements"
   ]
  },
  {
   "cell_type": "code",
   "execution_count": null,
   "metadata": {},
   "outputs": [],
   "source": [
    "# Log d'exemple\n",
    "log_securite = \"\"\"\n",
    "2024-01-31 10:15:23 - Tentative de connexion échouée depuis IP 192.168.1.100\n",
    "2024-01-31 10:15:45 - Accès refusé : identifiants incorrects\n",
    "2024-01-31 10:16:00 - Alerte : multiple tentatives de connexion détectées\n",
    "\"\"\""
   ]
  },
  {
   "cell_type": "code",
   "execution_count": null,
   "metadata": {},
   "outputs": [],
   "source": [
    "print(log_securite)"
   ]
  },
  {
   "cell_type": "code",
   "execution_count": null,
   "metadata": {},
   "outputs": [],
   "source": [
    "def analyser_log(log_text):\n",
    "    # Division en lignes\n",
    "    lignes = log_text.strip().split('\\n')\n",
    "    \n",
    "    for ligne in lignes:\n",
    "        if ligne:  # Ignore les lignes vides\n",
    "            # Division en mots\n",
    "            mots = word_tokenize(ligne, language='french')\n",
    "            print(f\"Analyse de la ligne : {mots}\")\n",
    "            \n",
    "            ...\n",
    "            pass"
   ]
  },
  {
   "cell_type": "code",
   "execution_count": null,
   "metadata": {},
   "outputs": [],
   "source": [
    "# Test de la fonction\n",
    "print(\"Exemple d'analyse de log :\")\n",
    "analyser_log(log_securite)"
   ]
  },
  {
   "cell_type": "markdown",
   "metadata": {},
   "source": [
    "### Exercice 2 : Détection de mots-clés sensibles\n",
    "CONSIGNE : \n",
    "Créez une fonction qui analyse un message pour détecter s'il s'agit potentiellement d'une tentative \n",
    "de phishing. La fonction doit :\n",
    "1. Retourner un score de risque entre 0 et 100\n",
    "2. Justifier son évaluation en listant les éléments suspects trouvés\n",
    "3. Utiliser au moins deux critères différents (ex: mots sensibles ET caractère d'urgence)\n",
    "\n",
    "Complétez la fonction ci-dessous en utilisant les outils NLTK vus précédemment."
   ]
  },
  {
   "cell_type": "code",
   "execution_count": null,
   "metadata": {},
   "outputs": [],
   "source": [
    "# Messages pour tester votre fonction\n",
    "messages_test = [\n",
    "   \"Pour des raisons de sécurité, veuillez confirmer votre mot de passe\",\n",
    "   \"Le service informatique vous demande de mettre à jour vos accès\",\n",
    "   \"URGENT: Votre compte sera bloqué si vous ne confirmez pas vos identifiants\",\n",
    "   \"La réunion de sécurité est reportée à lundi\",\n",
    "]\n",
    "\n",
    "# Liste de mots et expressions à utiliser dans votre analyse\n",
    "mots_cles_securite = {\n",
    "   'critiques': ['mot de passe', 'password', 'identifiants', 'login'],\n",
    "   'urgence': ['urgent', 'immédiatement', 'blocage', '24h'],\n",
    "}"
   ]
  },
  {
   "cell_type": "code",
   "execution_count": null,
   "metadata": {},
   "outputs": [],
   "source": [
    "### Exercice 2 : Création d'un détecteur de phishing basique\n",
    "\n",
    "def analyser_phishing(message):\n",
    "   \"\"\"\n",
    "   Paramètre :\n",
    "       message (str) : Le message à analyser\n",
    "   \n",
    "   Retourne :\n",
    "       score (int) : Score de risque entre 0 et 100\n",
    "       indices (list) : Liste des éléments suspects trouvés\n",
    "   \"\"\"\n",
    "   # À COMPLÉTER\n",
    "   score = 0\n",
    "   indices = []\n",
    "   \n",
    "   # 1. Tokenisation du message\n",
    "   mots = word_tokenize(message.lower(), language='french')\n",
    "   \n",
    "   # 2. Votre analyse ici\n",
    "   # Utilisez mots_cles_securite et ajoutez vos propres critères\n",
    "   \n",
    "   \n",
    "   # 3. Calculez le score final\n",
    "   \n",
    "   \n",
    "   return score, indices\n",
    "\n"
   ]
  },
  {
   "cell_type": "code",
   "execution_count": null,
   "metadata": {},
   "outputs": [],
   "source": [
    "# Tests de validation\n",
    "for message in messages_test:\n",
    "   score, indices = analyser_phishing(message)\n",
    "   print(f\"\\nMessage : {message}\")\n",
    "   print(f\"Score de risque : {score}/100\")\n",
    "   if indices:\n",
    "       print(\"Éléments suspects trouvés :\")\n",
    "       for indice in indices:\n",
    "           print(f\"- {indice}\")\n",
    "   else:\n",
    "       print(\"Aucun élément suspect trouvé\")"
   ]
  },
  {
   "cell_type": "markdown",
   "metadata": {},
   "source": [
    "## 6. Pour aller plus loin\n",
    "\n",
    "- Exploration des autres fonctionnalités de NLTK\n",
    "- Utilisation de scikit-learn pour la classification de textes\n",
    "- Analyse de patterns avec des expressions régulières\n",
    "- Création de visualisations avec matplotlib/seaborn"
   ]
  },
  {
   "cell_type": "code",
   "execution_count": null,
   "metadata": {},
   "outputs": [],
   "source": []
  }
 ],
 "metadata": {
  "kernelspec": {
   "display_name": "Python 3",
   "language": "python",
   "name": "python3"
  },
  "language_info": {
   "codemirror_mode": {
    "name": "ipython",
    "version": 3
   },
   "file_extension": ".py",
   "mimetype": "text/x-python",
   "name": "python",
   "nbconvert_exporter": "python",
   "pygments_lexer": "ipython3",
   "version": "3.8.3"
  }
 },
 "nbformat": 4,
 "nbformat_minor": 2
}
