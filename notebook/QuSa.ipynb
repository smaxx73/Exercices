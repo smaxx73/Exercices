{
 "cells": [
  {
   "cell_type": "markdown",
   "metadata": {},
   "source": [
    "# Exercice d'analyse du langage\n",
    "\n",
    "On donne un fichier CSV contenant des avis fictifs sur un restaurant :\n",
    "\n",
    "https://github.com/smaxx73/Exercices/blob/main/data/QuSa.csv\n",
    "\n",
    "\n",
    "\n",
    "### 1. Décrire le jeu de données\n",
    "\n",
    "### 2. Exercices NLP  :\n",
    "1. **Nettoyage** : Supprimer les ponctuations et les caractères spéciaux.\n",
    "2. **Normalisation** : Convertir tout le texte en minuscules.\n",
    "3. **Tokenisation** : Diviser le texte en mots individuels (tokens).\n",
    "4. **Suppression de stopwords** : Retirer les mots courants qui n'apportent pas beaucoup de sens (comme \"le\", \"la\", \"et\", etc.).\n",
    "5. **Lemmatisation** : Réduire les mots à leur forme de base (par exemple, \"manger\" au lieu de \"mange\", \"mangé\", etc.).\n",
    "\n",
    "Vous pouvez utiliser ce jeu de données pour pratiquer ces techniques et voir comment elles transforment les avis en données exploitables pour des analyses plus approfondies."
   ]
  },
  {
   "cell_type": "code",
   "execution_count": null,
   "metadata": {},
   "outputs": [],
   "source": []
  }
 ],
 "metadata": {
  "kernelspec": {
   "display_name": "Python 3",
   "language": "python",
   "name": "python3"
  },
  "language_info": {
   "codemirror_mode": {
    "name": "ipython",
    "version": 3
   },
   "file_extension": ".py",
   "mimetype": "text/x-python",
   "name": "python",
   "nbconvert_exporter": "python",
   "pygments_lexer": "ipython3",
   "version": "3.8.3"
  }
 },
 "nbformat": 4,
 "nbformat_minor": 4
}
