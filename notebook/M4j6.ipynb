{
 "cells": [
  {
   "cell_type": "markdown",
   "metadata": {},
   "source": [
    "# Introduction à Pandas : Manipulation et Analyse de Données\n",
    "\n",
    "Pandas est une bibliothèque Python essentielle pour l'analyse de données. Elle fournit des structures de données performantes et faciles à utiliser. Commençons par explorer sa structure de base : la Serie.\n",
    "\n",
    "## 1. Les Series dans Pandas\n",
    "\n",
    "Une Serie Pandas est comme une colonne de tableur \"intelligent\" : elle peut contenir des données (nombres, texte, dates...) et possède un index pour identifier chaque élément."
   ]
  },
  {
   "cell_type": "code",
   "execution_count": null,
   "metadata": {},
   "outputs": [],
   "source": [
    "import pandas as pd  # Convention : on importe pandas sous l'alias pd\n",
    "import numpy as np  # Nécessaire pour np.nan\n"
   ]
  },
  {
   "cell_type": "markdown",
   "metadata": {},
   "source": [
    "### 1.1 Création d'une Serie simple\n",
    "Une Serie se crée facilement à partir d'une liste Python. Par défaut, les éléments sont indexés de 0 à n-1."
   ]
  },
  {
   "cell_type": "code",
   "execution_count": null,
   "metadata": {},
   "outputs": [],
   "source": [
    "# Création d'une Serie de nombres\n",
    "notes = pd.Series([15, 12, 18, 14])\n",
    "print(\"Notre première Serie :\")\n",
    "print(notes)\n",
    "print(\"\\nType de la structure :\", type(notes))"
   ]
  },
  {
   "cell_type": "markdown",
   "metadata": {},
   "source": [
    "### 1.2 Accès aux éléments\n",
    "Comme les listes Python, on peut accéder aux éléments par leur position (index numérique) :"
   ]
  },
  {
   "cell_type": "code",
   "execution_count": null,
   "metadata": {},
   "outputs": [],
   "source": [
    "notes[0]"
   ]
  },
  {
   "cell_type": "code",
   "execution_count": null,
   "metadata": {},
   "outputs": [],
   "source": [
    "notes[2]"
   ]
  },
  {
   "cell_type": "code",
   "execution_count": null,
   "metadata": {},
   "outputs": [],
   "source": [
    "notes.iloc[-1]"
   ]
  },
  {
   "cell_type": "code",
   "execution_count": null,
   "metadata": {},
   "outputs": [],
   "source": [
    "print(\"Dernier élément :\", notes.iloc[-1])  # Pour l'indexation négative, utiliser .iloc"
   ]
  },
  {
   "cell_type": "code",
   "execution_count": null,
   "metadata": {},
   "outputs": [],
   "source": [
    "# Différentes façons d'accéder aux éléments\n",
    "print(\"Premier élément :\", notes[0])\n",
    "print(\"\\nPlusieurs éléments (slice) :\")\n",
    "print(notes[1:3])  # Du deuxième au troisième élément"
   ]
  },
  {
   "cell_type": "code",
   "execution_count": null,
   "metadata": {},
   "outputs": [],
   "source": [
    "notes.size"
   ]
  },
  {
   "cell_type": "code",
   "execution_count": null,
   "metadata": {},
   "outputs": [],
   "source": [
    "notes.dtype"
   ]
  },
  {
   "cell_type": "code",
   "execution_count": null,
   "metadata": {},
   "outputs": [],
   "source": [
    "# Exploration de la Serie\n",
    "print(\"Nombre d'éléments :\", notes.size)\n",
    "print(\"Type des données :\", notes.dtype)\n",
    "print(\"\\nStatistiques descriptives :\")\n",
    "print(notes.describe())"
   ]
  },
  {
   "cell_type": "markdown",
   "metadata": {},
   "source": [
    "### 1.4 Series avec index personnalisé\n",
    "L'un des avantages des Series est la possibilité de définir un index personnalisé, rendant les données plus lisibles et accessibles."
   ]
  },
  {
   "cell_type": "code",
   "execution_count": null,
   "metadata": {},
   "outputs": [],
   "source": [
    "# Création d'une Serie avec index personnalisé\n",
    "temperatures = pd.Series([25, 24, 26, 23], \n",
    "                        index=['Lundi', 'Mardi', 'Mercredi', 'Jeudi'])\n",
    "print(\"Températures de la semaine :\")\n",
    "print(temperatures)\n",
    "print(\"\\nTempérature de mercredi :\", temperatures['Mercredi'])"
   ]
  },
  {
   "cell_type": "markdown",
   "metadata": {},
   "source": [
    "### 1.5 Opérations et filtrage\n",
    "Les Series permettent des opérations vectorisées et du filtrage conditionnel :"
   ]
  },
  {
   "cell_type": "code",
   "execution_count": null,
   "metadata": {},
   "outputs": [],
   "source": [
    "# Opérations sur la Serie\n",
    "print(\"Températures en Fahrenheit :\")\n",
    "print(temperatures * 9/5 + 32)\n",
    "\n",
    "print(\"\\nJours chauds (>24°C) :\")\n",
    "print(temperatures[temperatures > 24])"
   ]
  },
  {
   "cell_type": "markdown",
   "metadata": {},
   "source": [
    "### 1.6 Agrégations\n",
    "Les Series incluent de nombreuses méthodes d'agrégation utiles pour l'analyse :"
   ]
  },
  {
   "cell_type": "code",
   "execution_count": null,
   "metadata": {},
   "outputs": [],
   "source": [
    "# Exemple d'agrégations\n",
    "print(\"Statistiques des températures :\")\n",
    "print({\n",
    "    'Moyenne': temperatures.mean(),\n",
    "    'Maximum': temperatures.max(),\n",
    "    'Minimum': temperatures.min(),\n",
    "    'Écart-type': temperatures.std()\n",
    "})\n",
    "\n",
    "# Exemple avec .agg\n",
    "print(\"\\nPlusieurs agrégations d'un coup :\")\n",
    "print(temperatures.agg(['mean', 'min', 'max', 'std']))"
   ]
  },
  {
   "cell_type": "markdown",
   "metadata": {},
   "source": [
    "### 1.7 Types de données dans une Serie\n",
    "Une Serie peut contenir différents types de données, et Pandas adapte le type automatiquement :"
   ]
  },
  {
   "cell_type": "code",
   "execution_count": null,
   "metadata": {},
   "outputs": [],
   "source": [
    "# Démonstration des différents types de données\n",
    "nombres = pd.Series([1, 2, 3, 4])\n",
    "texte = pd.Series(['rouge', 'vert', 'bleu'])\n",
    "mixte = pd.Series([1, 'deux', 3.0, True])\n",
    "\n",
    "print(\"Type des nombres :\", nombres.dtype)\n",
    "print(\"Type du texte :\", texte.dtype)\n",
    "print(\"Type mixte :\", mixte.dtype)  # Devient 'object' car contient différents types"
   ]
  },
  {
   "cell_type": "markdown",
   "metadata": {},
   "source": [
    "### 1.8 Gestion des valeurs manquantes\n",
    "Dans le monde réel, les données sont souvent incomplètes. Pandas gère nativement les valeurs manquantes avec NaN (Not a Number)."
   ]
  },
  {
   "cell_type": "code",
   "execution_count": null,
   "metadata": {},
   "outputs": [],
   "source": [
    "\n",
    "# Création d'une Serie avec des valeurs manquantes\n",
    "donnees_incompletes = pd.Series([1, np.nan, 3, None, 5])\n",
    "print(\"Données avec valeurs manquantes :\")\n",
    "print(donnees_incompletes)\n",
    "\n",
    "print(\"\\nDétection des valeurs manquantes :\")\n",
    "print(donnees_incompletes.isna())\n",
    "\n",
    "print(\"\\nSuppression des valeurs manquantes :\")\n",
    "print(donnees_incompletes.dropna())\n",
    "\n",
    "print(\"\\nRemplacement des valeurs manquantes :\")\n",
    "print(donnees_incompletes.fillna(0))"
   ]
  },
  {
   "cell_type": "markdown",
   "metadata": {},
   "source": [
    "### 1.9 Opérations statistiques et méthodes d'agrégation avancées\n",
    "Les Series offrent de nombreuses possibilités pour l'analyse statistique :"
   ]
  },
  {
   "cell_type": "code",
   "execution_count": null,
   "metadata": {},
   "outputs": [],
   "source": [
    "# Création d'une Serie de notes\n",
    "notes = pd.Series([12, 15, 18, 10, 14, 16],\n",
    "                 index=['Alice', 'Bob', 'Charlie', 'David', 'Eve', 'Frank'])\n",
    "\n",
    "# Statistiques de base\n",
    "print(\"Statistiques descriptives :\")\n",
    "print(notes.describe())\n",
    "\n",
    "# Agrégations personnalisées avec .agg\n",
    "print(\"\\nAgrégations personnalisées :\")\n",
    "stats = notes.agg({\n",
    "    'Moyenne': 'mean',\n",
    "    'Médiane': 'median',\n",
    "    'Note max': 'max',\n",
    "    'Note min': 'min',\n",
    "    'Écart-type': 'std',\n",
    "    'Nombre élèves > 14': lambda x: sum(x > 14)\n",
    "})\n",
    "print(stats)"
   ]
  },
  {
   "cell_type": "markdown",
   "metadata": {},
   "source": [
    "### 1.10 Manipulation et filtrage avancés\n",
    "On peut combiner plusieurs conditions pour filtrer nos données :"
   ]
  },
  {
   "cell_type": "code",
   "execution_count": null,
   "metadata": {},
   "outputs": [],
   "source": [
    "# Filtrage avec conditions multiples\n",
    "print(\"Élèves avec notes entre 14 et 16 :\")\n",
    "print(notes[(notes >= 14) & (notes <= 16)])\n",
    "\n",
    "# Tri des données\n",
    "print(\"\\nNotes triées par valeur :\")\n",
    "print(notes.sort_values(ascending=False))\n",
    "\n",
    "print(\"\\nNotes triées par nom d'élève :\")\n",
    "print(notes.sort_index())"
   ]
  },
  {
   "cell_type": "markdown",
   "metadata": {},
   "source": [
    "### 1.11 Exercices pratiques\n",
    "Pour consolider vos connaissances sur les Series Pandas, essayez ces exercices :\n",
    "\n",
    "1. Créez une Serie contenant les températures de la semaine (7 jours) avec des noms de jours comme index\n",
    "2. Calculez la température moyenne et l'écart-type\n",
    "3. Identifiez les jours où la température dépasse la moyenne\n",
    "4. Ajoutez 273.15 à toutes les températures pour les convertir en Kelvin\n",
    "5. Gérez quelques valeurs manquantes (NaN) dans les données"
   ]
  },
  {
   "cell_type": "code",
   "execution_count": null,
   "metadata": {},
   "outputs": [],
   "source": [
    "# 1. Créer une Serie avec les températures de la semaine\n",
    "temperatures_semaine = pd.Series(\n",
    "    [20, 22, 21, np.nan, 23, 19, 24],\n",
    "    index=['Lundi', 'Mardi', 'Mercredi', 'Jeudi', 'Vendredi', 'Samedi', 'Dimanche']\n",
    ")\n",
    "print(\"1. Températures de la semaine :\")\n",
    "print(temperatures_semaine)"
   ]
  },
  {
   "cell_type": "code",
   "execution_count": null,
   "metadata": {},
   "outputs": [],
   "source": [
    "# 2. Calculer la température moyenne et l'écart-type\n",
    "moyenne = ...\n",
    "ecart_type = ...\n",
    "print(\"\\n2. Statistiques :\")\n",
    "print(f\"Température moyenne : {moyenne:.1f}°C\")\n",
    "print(f\"Écart-type : {ecart_type:.1f}°C\")"
   ]
  },
  {
   "cell_type": "code",
   "execution_count": null,
   "metadata": {},
   "outputs": [],
   "source": [
    "# 3. Identifier les jours où la température dépasse la moyenne\n",
    "jours_chauds = ...\n",
    "print(\"\\n3. Jours au-dessus de la moyenne :\")\n",
    "print(jours_chauds)"
   ]
  },
  {
   "cell_type": "code",
   "execution_count": null,
   "metadata": {},
   "outputs": [],
   "source": [
    "# 4. Convertir en Kelvin (ajouter 273.15)\n",
    "temperatures_kelvin = ...\n",
    "print(\"\\n4. Températures en Kelvin :\")\n",
    "print(temperatures_kelvin)"
   ]
  },
  {
   "cell_type": "code",
   "execution_count": null,
   "metadata": {},
   "outputs": [],
   "source": [
    "# 5. Gestion des valeurs manquantes\n",
    "print(\"\\n5. Gestion des valeurs manquantes :\")\n",
    "print(\"Nombre de valeurs manquantes :\", ...)\n",
    "print(\"\\nDonnées sans valeurs manquantes :\")\n",
    "print(...)\n",
    "print(\"\\nRemplacement des NaN par la moyenne :\")\n",
    "print(...)"
   ]
  },
  {
   "cell_type": "markdown",
   "metadata": {},
   "source": [
    "## 2. Les DataFrames \n",
    "\n",
    "Un DataFrame est une structure de données 2D (comme un tableur Excel) composée de plusieurs Series. C'est la structure la plus utilisée dans Pandas pour manipuler des données tabulaires.\n",
    "\n",
    "### 2.1 Création d'un DataFrame\n",
    "Il existe plusieurs façons de créer un DataFrame :"
   ]
  },
  {
   "cell_type": "code",
   "execution_count": null,
   "metadata": {},
   "outputs": [],
   "source": [
    "import pandas as pd\n",
    "import numpy as np\n",
    "\n",
    "# 1. À partir d'un dictionnaire\n",
    "df1 = pd.DataFrame({\n",
    "    'Nom': ['Alice', 'Bob', 'Charlie'],\n",
    "    'Age': [25, 30, 35],\n",
    "    'Ville': ['Paris', 'Lyon', 'Marseille']\n",
    "})\n",
    "print(\"DataFrame créé à partir d'un dictionnaire :\")\n",
    "print(df1)\n",
    "\n",
    "# 2. À partir de listes\n",
    "donnees = [\n",
    "    ['Alice', 25, 'Paris'],\n",
    "    ['Bob', 30, 'Lyon'],\n",
    "    ['Charlie', 35, 'Marseille']\n",
    "]\n",
    "df2 = pd.DataFrame(donnees, columns=['Nom', 'Age', 'Ville'])\n",
    "print(\"\\nDataFrame créé à partir de listes :\")\n",
    "print(df2)"
   ]
  },
  {
   "cell_type": "markdown",
   "metadata": {},
   "source": [
    "### 2.2 Exploration d'un DataFrame\n",
    "Pandas offre plusieurs méthodes utiles pour explorer rapidement nos données :"
   ]
  },
  {
   "cell_type": "code",
   "execution_count": null,
   "metadata": {},
   "outputs": [],
   "source": [
    "# Créons un DataFrame plus conséquent pour nos exemples\n",
    "df = pd.DataFrame({\n",
    "    'Nom': ['Alice', 'Bob', 'Charlie', 'David', 'Eve'],\n",
    "    'Age': [25, 30, 35, 28, 22],\n",
    "    'Ville': ['Paris', 'Lyon', 'Paris', 'Marseille', 'Lyon'],\n",
    "    'Salaire': [45000, 50000, 55000, 48000, 42000],\n",
    "    'Departement': ['IT', 'HR', 'IT', 'Finance', 'HR']\n",
    "})"
   ]
  },
  {
   "cell_type": "code",
   "execution_count": null,
   "metadata": {},
   "outputs": [],
   "source": [
    "# Aperçu des données\n",
    "print(\"Les 2 premières lignes :\")\n",
    "print(df.head(2))"
   ]
  },
  {
   "cell_type": "code",
   "execution_count": null,
   "metadata": {},
   "outputs": [],
   "source": [
    "print(\"\\nInformations sur le DataFrame :\")\n",
    "print(df.info())"
   ]
  },
  {
   "cell_type": "code",
   "execution_count": null,
   "metadata": {},
   "outputs": [],
   "source": [
    "print(\"\\nStatistiques descriptives :\")\n",
    "print(df.describe())"
   ]
  },
  {
   "cell_type": "code",
   "execution_count": null,
   "metadata": {},
   "outputs": [],
   "source": [
    "print(\"\\nNoms des colonnes :\")\n",
    "print(df.columns)"
   ]
  },
  {
   "cell_type": "code",
   "execution_count": null,
   "metadata": {},
   "outputs": [],
   "source": [
    "print(\"\\nTypes des colonnes :\")\n",
    "print(df.dtypes)"
   ]
  },
  {
   "cell_type": "markdown",
   "metadata": {},
   "source": [
    "### 2.3 Accès aux données\n",
    "Un DataFrame permet différentes méthodes d'accès aux données :"
   ]
  },
  {
   "cell_type": "code",
   "execution_count": null,
   "metadata": {},
   "outputs": [],
   "source": [
    "# Accès à une colonne (renvoie une Serie)\n",
    "print(\"Colonne Age :\")\n",
    "print(df['Age'])\n",
    "# ou print(df.Age)  # Uniquement si le nom de colonne est un identifiant valide"
   ]
  },
  {
   "cell_type": "code",
   "execution_count": null,
   "metadata": {},
   "outputs": [],
   "source": [
    "# Accès à plusieurs colonnes\n",
    "print(\"\\nColonnes Nom et Age :\")\n",
    "print(df[['Nom', 'Age']])"
   ]
  },
  {
   "cell_type": "code",
   "execution_count": null,
   "metadata": {},
   "outputs": [],
   "source": [
    "# Accès par position avec iloc\n",
    "print(\"\\nPremière ligne, deuxième colonne :\")\n",
    "print(df.iloc[0, 1])\n"
   ]
  },
  {
   "cell_type": "code",
   "execution_count": null,
   "metadata": {},
   "outputs": [],
   "source": [
    "# Accès par label avec loc\n",
    "print(\"\\nLigne avec index 2, colonne 'Nom' :\")\n",
    "print(df.loc[2, 'Nom'])"
   ]
  },
  {
   "cell_type": "markdown",
   "metadata": {},
   "source": [
    "### 2.4 Filtrage et agrégation avancée\n",
    "Les DataFrames permettent des opérations complexes de filtrage et d'agrégation :"
   ]
  },
  {
   "cell_type": "code",
   "execution_count": null,
   "metadata": {},
   "outputs": [],
   "source": [
    "# Filtrage avec conditions\n",
    "parisiens = df[df['Ville'] == 'Paris']\n",
    "print(\"Employés de Paris :\")\n",
    "print(parisiens)\n"
   ]
  },
  {
   "cell_type": "code",
   "execution_count": null,
   "metadata": {},
   "outputs": [],
   "source": [
    "# Filtrage multi-conditions\n",
    "print(\"\\nEmployés IT de Paris :\")\n",
    "print(df[(df['Ville'] == 'Paris') & (df['Departement'] == 'IT')])"
   ]
  },
  {
   "cell_type": "code",
   "execution_count": null,
   "metadata": {},
   "outputs": [],
   "source": [
    "# Agrégations par groupe avec agg\n",
    "resultats = df.groupby('Departement').agg({\n",
    "    'Salaire': ['mean', 'min', 'max'],\n",
    "    'Age': 'mean',\n",
    "    'Nom': 'count'\n",
    "}).round(2)\n",
    "\n",
    "print(\"\\nStatistiques par département :\")\n",
    "print(resultats)"
   ]
  },
  {
   "cell_type": "markdown",
   "metadata": {},
   "source": [
    "### 2.5 Modification du DataFrame\n",
    "On peut facilement modifier un DataFrame :"
   ]
  },
  {
   "cell_type": "code",
   "execution_count": null,
   "metadata": {},
   "outputs": [],
   "source": [
    "# Ajout d'une nouvelle colonne\n",
    "df['Bonus'] = df['Salaire'] * 0.1\n",
    "\n",
    "# Modification basée sur condition\n",
    "df.loc[df['Departement'] == 'IT', 'Bonus'] *= 1.5\n",
    "\n",
    "# Ajout d'une ligne\n",
    "nouvelle_ligne = {\n",
    "    'Nom': 'Frank',\n",
    "    'Age': 31,\n",
    "    'Ville': 'Lyon',\n",
    "    'Salaire': 49000,\n",
    "    'Departement': 'Finance',\n",
    "    'Bonus': 4900\n",
    "}\n",
    "df = df.append(nouvelle_ligne, ignore_index=True)\n",
    "\n",
    "print(\"DataFrame mis à jour :\")\n",
    "print(df)"
   ]
  },
  {
   "cell_type": "markdown",
   "metadata": {},
   "source": [
    "### 2.6 Exercices pratiques sur les DataFrames\n",
    "\n",
    "1. Créez un DataFrame contenant des informations sur des produits (nom, prix, catégorie, stock)\n",
    "2. Calculez le prix moyen par catégorie\n",
    "3. Identifiez les produits dont le stock est inférieur à 10\n",
    "4. Ajoutez une colonne 'Valeur_Stock' qui calcule prix * stock\n",
    "5. Créez un résumé montrant pour chaque catégorie :\n",
    "   - Le nombre de produits\n",
    "   - La valeur totale du stock\n",
    "   - Le prix moyen\n",
    "   - Le stock minimum"
   ]
  },
  {
   "cell_type": "code",
   "execution_count": null,
   "metadata": {},
   "outputs": [],
   "source": [
    "# 1. Création du DataFrame des produits\n",
    "produits = pd.DataFrame({\n",
    "    'Nom': ['Ordinateur', 'Souris', 'Clavier', 'Écran', 'Webcam', 'Casque', 'Imprimante', 'Tablette'],\n",
    "    'Prix': [1200, 25, 45, 300, 50, 80, 150, 400],\n",
    "    'Catégorie': ['Informatique', 'Accessoires', 'Accessoires', 'Informatique', \n",
    "                  'Accessoires', 'Audio', 'Informatique', 'Informatique'],\n",
    "    'Stock': [5, 15, 8, 12, 20, 6, 4, 10]\n",
    "})\n",
    "\n",
    "print(\"1. DataFrame initial des produits :\")\n",
    "print(produits)"
   ]
  },
  {
   "cell_type": "code",
   "execution_count": null,
   "metadata": {},
   "outputs": [],
   "source": [
    "# 2. Prix moyen par catégorie\n",
    "prix_moyen = ...\n",
    "print(\"\\n2. Prix moyen par catégorie :\")\n",
    "print(prix_moyen)"
   ]
  },
  {
   "cell_type": "code",
   "execution_count": null,
   "metadata": {},
   "outputs": [],
   "source": [
    "# 3. Produits avec stock faible\n",
    "stock_faible = ...\n",
    "print(\"\\n3. Produits avec stock inférieur à 10 :\")\n",
    "print(stock_faible)"
   ]
  },
  {
   "cell_type": "code",
   "execution_count": null,
   "metadata": {},
   "outputs": [],
   "source": [
    "# 4. Ajout de la colonne Valeur_Stock\n",
    "produits['Valeur_Stock'] = ...\n",
    "print(\"\\n4. DataFrame avec la valeur du stock :\")\n",
    "print(produits)"
   ]
  },
  {
   "cell_type": "code",
   "execution_count": null,
   "metadata": {},
   "outputs": [],
   "source": [
    "# 5. Résumé par catégorie avec agrégations multiples\n",
    "resume = produits.groupby('Catégorie').agg({\n",
    "    'Nom': 'count',  # Nombre de produits\n",
    "    'Valeur_Stock': 'sum',  # Valeur totale du stock\n",
    "    'Prix': 'mean',  # Prix moyen\n",
    "    'Stock': 'min'   # Stock minimum\n",
    "}).round(2)\n",
    "\n",
    "# Renommage des colonnes pour plus de clarté\n",
    "resume.columns = ['Nombre_Produits', 'Valeur_Totale_Stock', 'Prix_Moyen', 'Stock_Minimum']\n",
    "\n",
    "print(\"\\n5. Résumé par catégorie :\")\n",
    "print(resume)\n",
    "\n",
    "# Bonus : Ajout de statistiques globales\n",
    "print(\"\\nBonus - Statistiques globales :\")\n",
    "print(f\"Valeur totale de l'inventaire : {produits['Valeur_Stock'].sum():,.2f} €\")\n",
    "print(f\"Nombre total de produits en stock : {produits['Stock'].sum()}\")\n",
    "print(f\"Prix moyen tous produits confondus : {produits['Prix'].mean():.2f} €\")"
   ]
  },
  {
   "cell_type": "markdown",
   "metadata": {},
   "source": [
    "### 2.7 Cas pratique : Analyse de la consommation mondiale de boissons\n",
    "\n",
    "Pour illustrer l'utilisation des DataFrames sur un cas réel, analysons un jeu de données sur la consommation de boissons par pays."
   ]
  },
  {
   "cell_type": "code",
   "execution_count": null,
   "metadata": {},
   "outputs": [],
   "source": [
    "# Chargement des données\n",
    "url = \"https://raw.githubusercontent.com/justmarkham/DAT8/master/data/drinks.csv\"\n",
    "drinks = pd.read_csv(url)\n",
    "\n",
    "# Aperçu des données\n",
    "print(\"Aperçu des 5 premières lignes :\")\n",
    "print(drinks.head())\n",
    "\n",
    "print(\"\\nInformations sur le dataset :\")\n",
    "print(drinks.info())"
   ]
  },
  {
   "cell_type": "markdown",
   "metadata": {},
   "source": [
    "Le dataset contient les informations suivantes pour chaque pays :\n",
    "- beer_servings : Consommation de bière (verres par personne par an)\n",
    "- spirit_servings : Consommation de spiritueux\n",
    "- wine_servings : Consommation de vin\n",
    "- total_litres_of_pure_alcohol : Consommation totale d'alcool pur"
   ]
  },
  {
   "cell_type": "code",
   "execution_count": null,
   "metadata": {},
   "outputs": [],
   "source": [
    "# Analyse par continent\n",
    "stats_par_continent = drinks.groupby('continent').agg({\n",
    "    'beer_servings': ['mean', 'min', 'max'],\n",
    "    'wine_servings': ['mean', 'min', 'max'],\n",
    "    'spirit_servings': ['mean', 'min', 'max'],\n",
    "    'total_litres_of_pure_alcohol': 'mean'\n",
    "}).round(1)\n",
    "\n",
    "print(\"Statistiques de consommation par continent :\")\n",
    "print(stats_par_continent)\n",
    "\n",
    "# Top 5 des pays consommateurs de bière\n",
    "print(\"\\nTop 5 des pays consommateurs de bière :\")\n",
    "print(drinks.nlargest(5, 'beer_servings')[['country', 'beer_servings']])\n",
    "\n",
    "# Consommation moyenne par type de boisson\n",
    "moyennes = drinks[['beer_servings', 'spirit_servings', 'wine_servings']].mean()\n",
    "print(\"\\nConsommation moyenne mondiale par type :\")\n",
    "print(moyennes)\n",
    "\n",
    "# Pays sans alcool (total = 0)\n",
    "pays_sans_alcool = drinks[drinks['total_litres_of_pure_alcohol'] == 0]\n",
    "print(f\"\\nNombre de pays sans alcool : {len(pays_sans_alcool)}\")\n",
    "print(\"Liste des pays sans alcool :\")\n",
    "print(pays_sans_alcool['country'].tolist())\n",
    "\n",
    "# Corrélations entre les différentes boissons\n",
    "correlations = drinks[['beer_servings', 'spirit_servings', 'wine_servings']].corr()\n",
    "print(\"\\nCorrélations entre les types de boissons :\")\n",
    "print(correlations)"
   ]
  },
  {
   "cell_type": "markdown",
   "metadata": {},
   "source": [
    "### 2.8 Exercices sur le dataset drinks\n",
    "\n",
    "1. Trouvez le top 3 des pays pour chaque type de boisson\n",
    "2. Calculez la consommation totale de boissons (beer + spirit + wine) par pays\n",
    "3. Pour chaque continent, trouvez :\n",
    "   - Le pays qui consomme le plus d'alcool total\n",
    "   - Le ratio vin/bière moyen\n",
    "4. Identifiez les pays où la consommation de vin est supérieure à celle de bière"
   ]
  },
  {
   "cell_type": "code",
   "execution_count": null,
   "metadata": {},
   "outputs": [],
   "source": []
  },
  {
   "cell_type": "markdown",
   "metadata": {},
   "source": [
    "## 3. Cas pratique : Analyse de la tragédie du Titanic\n",
    "\n",
    "Le naufrage du Titanic est l'une des plus célèbres tragédies maritimes. Analysons les données des passagers pour comprendre les facteurs qui ont influencé la survie.\n",
    "\n",
    "### 3.1 Chargement et exploration des données"
   ]
  },
  {
   "cell_type": "code",
   "execution_count": null,
   "metadata": {},
   "outputs": [],
   "source": [
    "# Chargement des données\n",
    "url = \"https://raw.githubusercontent.com/pandas-dev/pandas/master/doc/data/titanic.csv\"\n",
    "titanic = pd.read_csv(url)\n",
    "\n",
    "# Aperçu des données\n",
    "print(\"Aperçu des premières lignes :\")\n",
    "print(titanic.head())\n",
    "\n",
    "print(\"\\nInformations sur le dataset :\")\n",
    "print(titanic.info())"
   ]
  },
  {
   "cell_type": "markdown",
   "metadata": {},
   "source": [
    "### 3.2 Exercices d'analyse\n",
    "\n",
    "1. Analyse démographique de base :\n",
    "   - Calculez l'âge moyen des passagers\n",
    "   - Quelle est la répartition hommes/femmes ?\n",
    "   - Quelle est la répartition par classe ?\n",
    "\n",
    "2. Analyse de la survie :\n",
    "   - Quel est le taux de survie global ?\n",
    "   - Comparez les taux de survie par classe\n",
    "   - Comparez les taux de survie homme/femme\n",
    "   - Y a-t-il une corrélation entre l'âge et la survie ?\n",
    "\n",
    "3. Analyse des cabines :\n",
    "   - Combien de passagers ont une information de cabine ?\n",
    "   - La présence d'une information de cabine est-elle corrélée à la survie ?\n",
    "   - Quelle classe avait le plus de cabines assignées ?\n",
    "\n",
    "4. Analyse familiale :\n",
    "   - Calculez le nombre moyen de parents/enfants par passager\n",
    "   - Les personnes voyageant en famille ont-elles eu plus de chances de survivre ?\n",
    "   - Quel était le nombre idéal de membres de famille pour maximiser ses chances ?\n",
    "\n",
    "5. Analyse des tarifs :\n",
    "   - Quel était le tarif moyen par classe ?\n",
    "   - Existe-t-il une corrélation entre le tarif et la survie ?\n",
    "   - Identifiez les outliers dans les tarifs\n",
    "\n",
    "6. Créez un résumé statistique complet montrant :\n",
    "   - Pour chaque classe : taux de survie, âge moyen, tarif moyen\n",
    "   - Pour chaque port d'embarquement : nombre de passagers et taux de survie\n",
    "   - Pour chaque taille de famille : nombre de passagers et taux de survie"
   ]
  },
  {
   "cell_type": "code",
   "execution_count": null,
   "metadata": {},
   "outputs": [],
   "source": [
    "# Voici quelques fonctions utiles pour l'analyse :\n",
    "\n",
    "def taux_survie(groupe):\n",
    "    \"\"\"Calcule le taux de survie pour un groupe donné\"\"\"\n",
    "    return (groupe['survived'].mean() * 100).round(1)\n",
    "\n",
    "def resume_par_groupe(df, colonne):\n",
    "    \"\"\"Crée un résumé statistique pour une colonne donnée\"\"\"\n",
    "    return df.groupby(colonne).agg({\n",
    "        'survived': ['count', 'mean'],\n",
    "        'age': ['mean', 'median'],\n",
    "        'fare': ['mean', 'median']\n",
    "    }).round(2)"
   ]
  },
  {
   "cell_type": "markdown",
   "metadata": {},
   "source": [
    "### 3.3 Solutions :"
   ]
  },
  {
   "cell_type": "code",
   "execution_count": null,
   "metadata": {},
   "outputs": [],
   "source": [
    "import pandas as pd\n",
    "import numpy as np\n",
    "\n",
    "# Chargement des données\n",
    "url = ...\n",
    "titanic = ..."
   ]
  },
  {
   "cell_type": "code",
   "execution_count": null,
   "metadata": {},
   "outputs": [],
   "source": [
    "# 1. Analyse démographique de base\n",
    "print(\"1. ANALYSE DÉMOGRAPHIQUE\")\n",
    "\n",
    "# Âge moyen (en gérant les valeurs manquantes)\n",
    "age_moyen = ...\n",
    "print(f\"\\nÂge moyen des passagers : {age_moyen:.1f} ans\")\n",
    "\n",
    "# Répartition homme/femme\n",
    "repartition_sexe = ...\n",
    "pourcentage_sexe = titanic['sex'].value_counts(normalize=True).round(3) * 100\n",
    "print(\"\\nRépartition par sexe:\")\n",
    "print(f\"Nombre absolu:\\n{repartition_sexe}\")\n",
    "print(f\"Pourcentage:\\n{pourcentage_sexe}\")\n",
    "\n",
    "# Répartition par classe\n",
    "repartition_classe = ...\n",
    "pourcentage_classe = titanic['class'].value_counts(normalize=True).round(3) * 100\n",
    "print(\"\\nRépartition par classe:\")\n",
    "print(f\"Nombre absolu:\\n{repartition_classe}\")\n",
    "print(f\"Pourcentage:\\n{pourcentage_classe}\")"
   ]
  },
  {
   "cell_type": "code",
   "execution_count": null,
   "metadata": {},
   "outputs": [],
   "source": [
    "# 2. Analyse de la survie\n",
    "print(\"\\n2. ANALYSE DE LA SURVIE\")\n",
    "\n",
    "# Taux de survie global\n",
    "\n",
    "\n",
    "# Taux de survie par classe\n",
    "survie_classe = ...\n",
    "...\n",
    "print(survie_classe)\n",
    "\n",
    "# Taux de survie par sexe\n",
    "survie_sexe = ...\n",
    "...\n",
    "print(\"\\nTaux de survie par sexe :\")\n",
    "print(survie_sexe)\n",
    "\n",
    "# Corrélation âge/survie\n",
    "# On crée des groupes d'âge pour mieux analyser\n",
    "titanic['age_group'] = ...\n",
    "survie_age = ...\n",
    "print(\"\\nTaux de survie par groupe d'âge :\")\n",
    "print(survie_age)"
   ]
  },
  {
   "cell_type": "code",
   "execution_count": null,
   "metadata": {},
   "outputs": [],
   "source": [
    "# 3. Analyse des cabines\n",
    "print(\"\\n3. ANALYSE DES CABINES\")\n",
    "\n",
    "# Nombre de passagers avec information de cabine\n",
    "\n",
    "\n",
    "# Corrélation cabine/survie\n",
    "\n",
    "\n",
    "# Cabines par classe\n"
   ]
  },
  {
   "cell_type": "code",
   "execution_count": null,
   "metadata": {},
   "outputs": [],
   "source": [
    "\n",
    "# 4. Analyse familiale\n",
    "print(\"\\n4. ANALYSE FAMILIALE\")\n",
    "\n",
    "# Création d'une colonne taille_famille\n",
    "\n",
    "\n",
    "# Survie selon taille de la famille\n"
   ]
  },
  {
   "cell_type": "code",
   "execution_count": null,
   "metadata": {},
   "outputs": [],
   "source": [
    "# 5. Analyse des tarifs\n",
    "\n"
   ]
  },
  {
   "cell_type": "code",
   "execution_count": null,
   "metadata": {},
   "outputs": [],
   "source": [
    "# 6. Résumé statistique complet\n"
   ]
  },
  {
   "cell_type": "code",
   "execution_count": null,
   "metadata": {},
   "outputs": [],
   "source": [
    "\n",
    "\n",
    "\n",
    "\n",
    "\n",
    "\n",
    "\n",
    "\n",
    "\n",
    "\n",
    "\n",
    "\n"
   ]
  }
 ],
 "metadata": {
  "kernelspec": {
   "display_name": "Python 3",
   "language": "python",
   "name": "python3"
  },
  "language_info": {
   "codemirror_mode": {
    "name": "ipython",
    "version": 3
   },
   "file_extension": ".py",
   "mimetype": "text/x-python",
   "name": "python",
   "nbconvert_exporter": "python",
   "pygments_lexer": "ipython3",
   "version": "3.8.3"
  }
 },
 "nbformat": 4,
 "nbformat_minor": 4
}
